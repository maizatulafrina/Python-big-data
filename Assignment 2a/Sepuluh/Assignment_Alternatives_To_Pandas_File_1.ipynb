{
  "cells": [
    {
      "cell_type": "markdown",
      "metadata": {
        "id": "XBtcnU6iVJJx"
      },
      "source": [
        "# **File 1: Pyspark on Health Insurance Marketplace**"
      ]
    },
    {
      "cell_type": "markdown",
      "source": [
        "##Introduction of Pyspark\n",
        "\n",
        "Apache Spark is an open-source distributed data processing system that is well-suited for large-scale data processing. PySpark is the Python API for Spark. It allows you to use Spark from Python, and it includes a large number of libraries for working with data, including support for distributed data structures and machine learning.\n",
        "\n",
        "Using PySpark, you can build data pipelines, analyze data, and build machine learning models. PySpark is particularly useful for distributed data processing, as it allows you to scale your data processing tasks across a cluster of machines.\n",
        "\n",
        "To use PySpark, you will need to have Python and Spark installed on your system. You can then use the PySpark API to interact with Spark in your Python programs. There are many resources available online for learning more about PySpark and how to use it to build data processing and machine learning pipelines."
      ],
      "metadata": {
        "id": "_AhJVo-5BuV1"
      }
    },
    {
      "cell_type": "markdown",
      "source": [
        "##Connecting Drive to Colab"
      ],
      "metadata": {
        "id": "KhuT_XLNCjG3"
      }
    },
    {
      "cell_type": "code",
      "source": [
        "from google.colab import drive\n",
        "drive.mount('/content/drive')"
      ],
      "metadata": {
        "colab": {
          "base_uri": "https://localhost:8080/"
        },
        "id": "xOB2c8jSu1o1",
        "outputId": "3b16a1bd-ca9e-4d94-a02f-4ac93aefef7e"
      },
      "execution_count": null,
      "outputs": [
        {
          "output_type": "stream",
          "name": "stdout",
          "text": [
            "Mounted at /content/drive\n"
          ]
        }
      ]
    },
    {
      "cell_type": "markdown",
      "source": [
        "##Setting up PySpark in Colab"
      ],
      "metadata": {
        "id": "s5GBMvQUCs6O"
      }
    },
    {
      "cell_type": "code",
      "source": [
        "!pip install pyspark"
      ],
      "metadata": {
        "colab": {
          "base_uri": "https://localhost:8080/"
        },
        "id": "wWlxUDTYvTU1",
        "outputId": "151de9f6-d7b8-4a92-d10c-a7f22f811b22"
      },
      "execution_count": null,
      "outputs": [
        {
          "output_type": "stream",
          "name": "stdout",
          "text": [
            "Looking in indexes: https://pypi.org/simple, https://us-python.pkg.dev/colab-wheels/public/simple/\n",
            "Collecting pyspark\n",
            "  Downloading pyspark-3.3.1.tar.gz (281.4 MB)\n",
            "\u001b[2K     \u001b[90m━━━━━━━━━━━━━━━━━━━━━━━━━━━━━━━━━━━━━━━\u001b[0m \u001b[32m281.4/281.4 MB\u001b[0m \u001b[31m4.7 MB/s\u001b[0m eta \u001b[36m0:00:00\u001b[0m\n",
            "\u001b[?25h  Preparing metadata (setup.py) ... \u001b[?25l\u001b[?25hdone\n",
            "Collecting py4j==0.10.9.5\n",
            "  Downloading py4j-0.10.9.5-py2.py3-none-any.whl (199 kB)\n",
            "\u001b[2K     \u001b[90m━━━━━━━━━━━━━━━━━━━━━━━━━━━━━━━━━━━━━━\u001b[0m \u001b[32m199.7/199.7 KB\u001b[0m \u001b[31m21.4 MB/s\u001b[0m eta \u001b[36m0:00:00\u001b[0m\n",
            "\u001b[?25hBuilding wheels for collected packages: pyspark\n",
            "  Building wheel for pyspark (setup.py) ... \u001b[?25l\u001b[?25hdone\n",
            "  Created wheel for pyspark: filename=pyspark-3.3.1-py2.py3-none-any.whl size=281845512 sha256=2f909f36cb9fbae39e2cd67ce7ec6e81293a28776673e9916879c0e737078029\n",
            "  Stored in directory: /root/.cache/pip/wheels/43/dc/11/ec201cd671da62fa9c5cc77078235e40722170ceba231d7598\n",
            "Successfully built pyspark\n",
            "Installing collected packages: py4j, pyspark\n",
            "Successfully installed py4j-0.10.9.5 pyspark-3.3.1\n"
          ]
        }
      ]
    },
    {
      "cell_type": "markdown",
      "source": [
        "##Initialize PySpark Session"
      ],
      "metadata": {
        "id": "T9R1BgLTCvxe"
      }
    },
    {
      "cell_type": "code",
      "source": [
        "from pyspark.sql import SparkSession\n",
        "spark = SparkSession.builder\\\n",
        "        .master(\"local\")\\\n",
        "        .appName(\"Colab\")\\\n",
        "        .config('spark.ui.port', '4050')\\\n",
        "        .getOrCreate()"
      ],
      "metadata": {
        "id": "c1LqZ5c4ve8I"
      },
      "execution_count": null,
      "outputs": []
    },
    {
      "cell_type": "code",
      "source": [
        "spark"
      ],
      "metadata": {
        "colab": {
          "base_uri": "https://localhost:8080/",
          "height": 219
        },
        "id": "2TM6XtBWvp6H",
        "outputId": "7760cebe-d724-4978-b1d3-ab0e28107d7e"
      },
      "execution_count": null,
      "outputs": [
        {
          "output_type": "execute_result",
          "data": {
            "text/plain": [
              "<pyspark.sql.session.SparkSession at 0x7f07adc4cca0>"
            ],
            "text/html": [
              "\n",
              "            <div>\n",
              "                <p><b>SparkSession - in-memory</b></p>\n",
              "                \n",
              "        <div>\n",
              "            <p><b>SparkContext</b></p>\n",
              "\n",
              "            <p><a href=\"http://9280b62308d2:4050\">Spark UI</a></p>\n",
              "\n",
              "            <dl>\n",
              "              <dt>Version</dt>\n",
              "                <dd><code>v3.3.1</code></dd>\n",
              "              <dt>Master</dt>\n",
              "                <dd><code>local</code></dd>\n",
              "              <dt>AppName</dt>\n",
              "                <dd><code>Colab</code></dd>\n",
              "            </dl>\n",
              "        </div>\n",
              "        \n",
              "            </div>\n",
              "        "
            ]
          },
          "metadata": {},
          "execution_count": 4
        }
      ]
    },
    {
      "cell_type": "markdown",
      "source": [
        "##Loading data into PySpark"
      ],
      "metadata": {
        "id": "q9rAn5QzC2ee"
      }
    },
    {
      "cell_type": "code",
      "source": [
        "%%time\n",
        "spark_df = spark.read.csv('/content/drive/MyDrive/Colab Notebooks/Rate.csv', header=True)"
      ],
      "metadata": {
        "colab": {
          "base_uri": "https://localhost:8080/"
        },
        "id": "dCen61FCvuJn",
        "outputId": "3d7fd63f-b6aa-4df1-c629-cfd0f9695e07"
      },
      "execution_count": null,
      "outputs": [
        {
          "output_type": "stream",
          "name": "stdout",
          "text": [
            "CPU times: user 73.1 ms, sys: 5.24 ms, total: 78.3 ms\n",
            "Wall time: 10.7 s\n"
          ]
        }
      ]
    },
    {
      "cell_type": "code",
      "source": [
        "%%time\n",
        "spark_df.show()"
      ],
      "metadata": {
        "colab": {
          "base_uri": "https://localhost:8080/"
        },
        "id": "RQc2-ku2v-sl",
        "outputId": "af3d050f-eba5-46d7-d859-1c3432351a33"
      },
      "execution_count": null,
      "outputs": [
        {
          "output_type": "stream",
          "name": "stdout",
          "text": [
            "+------------+---------+--------+----------+----------+-------------------+---------+----------+-----------------+------------------+--------------+-------------+-------------+-------------+--------------+---------------------+------+--------------------------------+---------------------------------+-----------------------------------------+---------------------+----------------------+------------------------------+---------+\n",
            "|BusinessYear|StateCode|IssuerId|SourceName|VersionNum|         ImportDate|IssuerId2|FederalTIN|RateEffectiveDate|RateExpirationDate|        PlanId| RatingAreaId|      Tobacco|          Age|IndividualRate|IndividualTobaccoRate|Couple|PrimarySubscriberAndOneDependent|PrimarySubscriberAndTwoDependents|PrimarySubscriberAndThreeOrMoreDependents|CoupleAndOneDependent|CoupleAndTwoDependents|CoupleAndThreeOrMoreDependents|RowNumber|\n",
            "+------------+---------+--------+----------+----------+-------------------+---------+----------+-----------------+------------------+--------------+-------------+-------------+-------------+--------------+---------------------+------+--------------------------------+---------------------------------+-----------------------------------------+---------------------+----------------------+------------------------------+---------+\n",
            "|        2014|       AK|   21989|      HIOS|         6|2014-03-19 07:06:49|    21989|93-0438772|       2014-01-01|        2014-12-31|21989AK0010001|Rating Area 1|No Preference|         0-20|          29.0|                 null|  null|                            null|                             null|                                     null|                 null|                  null|                          null|       14|\n",
            "|        2014|       AK|   21989|      HIOS|         6|2014-03-19 07:06:49|    21989|93-0438772|       2014-01-01|        2014-12-31|21989AK0020001|Rating Area 1|No Preference|Family Option|         36.95|                 null|  73.9|                          107.61|                           107.61|                                   107.61|               144.56|                144.56|                        144.56|       14|\n",
            "|        2014|       AK|   21989|      HIOS|         6|2014-03-19 07:06:49|    21989|93-0438772|       2014-01-01|        2014-12-31|21989AK0020001|Rating Area 2|No Preference|Family Option|         36.95|                 null|  73.9|                          107.61|                           107.61|                                   107.61|               144.56|                144.56|                        144.56|       15|\n",
            "|        2014|       AK|   21989|      HIOS|         6|2014-03-19 07:06:49|    21989|93-0438772|       2014-01-01|        2014-12-31|21989AK0010001|Rating Area 1|No Preference|           21|          32.0|                 null|  null|                            null|                             null|                                     null|                 null|                  null|                          null|       15|\n",
            "|        2014|       AK|   21989|      HIOS|         6|2014-03-19 07:06:49|    21989|93-0438772|       2014-01-01|        2014-12-31|21989AK0010001|Rating Area 1|No Preference|           22|          32.0|                 null|  null|                            null|                             null|                                     null|                 null|                  null|                          null|       16|\n",
            "|        2014|       AK|   21989|      HIOS|         6|2014-03-19 07:06:49|    21989|93-0438772|       2014-01-01|        2014-12-31|21989AK0020001|Rating Area 3|No Preference|Family Option|         36.95|                 null|  73.9|                          107.61|                           107.61|                                   107.61|               144.56|                144.56|                        144.56|       16|\n",
            "|        2014|       AK|   21989|      HIOS|         6|2014-03-19 07:06:49|    21989|93-0438772|       2014-01-01|        2014-12-31|21989AK0020002|Rating Area 1|No Preference|Family Option|         32.45|                 null|  64.9|                            94.5|                             94.5|                                     94.5|               126.95|                126.95|                        126.95|       17|\n",
            "|        2014|       AK|   21989|      HIOS|         6|2014-03-19 07:06:49|    21989|93-0438772|       2014-01-01|        2014-12-31|21989AK0010001|Rating Area 1|No Preference|           23|          32.0|                 null|  null|                            null|                             null|                                     null|                 null|                  null|                          null|       17|\n",
            "|        2014|       AK|   21989|      HIOS|         6|2014-03-19 07:06:49|    21989|93-0438772|       2014-01-01|        2014-12-31|21989AK0010001|Rating Area 1|No Preference|           24|          32.0|                 null|  null|                            null|                             null|                                     null|                 null|                  null|                          null|       18|\n",
            "|        2014|       AK|   21989|      HIOS|         6|2014-03-19 07:06:49|    21989|93-0438772|       2014-01-01|        2014-12-31|21989AK0020002|Rating Area 2|No Preference|Family Option|         32.45|                 null|  64.9|                            94.5|                             94.5|                                     94.5|               126.95|                126.95|                        126.95|       18|\n",
            "|        2014|       AK|   21989|      HIOS|         6|2014-03-19 07:06:49|    21989|93-0438772|       2014-01-01|        2014-12-31|21989AK0020002|Rating Area 3|No Preference|Family Option|         32.45|                 null|  64.9|                            94.5|                             94.5|                                     94.5|               126.95|                126.95|                        126.95|       19|\n",
            "|        2014|       AK|   21989|      HIOS|         6|2014-03-19 07:06:49|    21989|93-0438772|       2014-01-01|        2014-12-31|21989AK0010001|Rating Area 1|No Preference|           25|          32.0|                 null|  null|                            null|                             null|                                     null|                 null|                  null|                          null|       19|\n",
            "|        2014|       AK|   21989|      HIOS|         6|2014-03-19 07:06:49|    21989|93-0438772|       2014-01-01|        2014-12-31|21989AK0010001|Rating Area 1|No Preference|           26|          32.0|                 null|  null|                            null|                             null|                                     null|                 null|                  null|                          null|       20|\n",
            "|        2014|       AK|   21989|      HIOS|         6|2014-03-19 07:06:49|    21989|93-0438772|       2014-01-01|        2014-12-31|21989AK0010001|Rating Area 1|No Preference|           27|          32.0|                 null|  null|                            null|                             null|                                     null|                 null|                  null|                          null|       21|\n",
            "|        2014|       AK|   21989|      HIOS|         6|2014-03-19 07:06:49|    21989|93-0438772|       2014-01-01|        2014-12-31|21989AK0010001|Rating Area 1|No Preference|           28|          32.0|                 null|  null|                            null|                             null|                                     null|                 null|                  null|                          null|       22|\n",
            "|        2014|       AK|   21989|      HIOS|         6|2014-03-19 07:06:49|    21989|93-0438772|       2014-01-01|        2014-12-31|21989AK0010001|Rating Area 1|No Preference|           29|          32.0|                 null|  null|                            null|                             null|                                     null|                 null|                  null|                          null|       23|\n",
            "|        2014|       AK|   21989|      HIOS|         6|2014-03-19 07:06:49|    21989|93-0438772|       2014-01-01|        2014-12-31|21989AK0010001|Rating Area 1|No Preference|           30|          32.0|                 null|  null|                            null|                             null|                                     null|                 null|                  null|                          null|       24|\n",
            "|        2014|       AK|   21989|      HIOS|         6|2014-03-19 07:06:49|    21989|93-0438772|       2014-01-01|        2014-12-31|21989AK0010001|Rating Area 1|No Preference|           31|          32.0|                 null|  null|                            null|                             null|                                     null|                 null|                  null|                          null|       25|\n",
            "|        2014|       AK|   21989|      HIOS|         6|2014-03-19 07:06:49|    21989|93-0438772|       2014-01-01|        2014-12-31|21989AK0010001|Rating Area 1|No Preference|           32|          32.0|                 null|  null|                            null|                             null|                                     null|                 null|                  null|                          null|       26|\n",
            "|        2014|       AK|   21989|      HIOS|         6|2014-03-19 07:06:49|    21989|93-0438772|       2014-01-01|        2014-12-31|21989AK0010001|Rating Area 1|No Preference|           33|          32.0|                 null|  null|                            null|                             null|                                     null|                 null|                  null|                          null|       27|\n",
            "+------------+---------+--------+----------+----------+-------------------+---------+----------+-----------------+------------------+--------------+-------------+-------------+-------------+--------------+---------------------+------+--------------------------------+---------------------------------+-----------------------------------------+---------------------+----------------------+------------------------------+---------+\n",
            "only showing top 20 rows\n",
            "\n",
            "CPU times: user 8 ms, sys: 1.46 ms, total: 9.46 ms\n",
            "Wall time: 847 ms\n"
          ]
        }
      ]
    },
    {
      "cell_type": "markdown",
      "source": [
        "##Show column details"
      ],
      "metadata": {
        "id": "vdasfEK_C8ni"
      }
    },
    {
      "cell_type": "code",
      "source": [
        "%%time\n",
        "spark_df.printSchema()"
      ],
      "metadata": {
        "colab": {
          "base_uri": "https://localhost:8080/"
        },
        "id": "N4pHJrU4x3ph",
        "outputId": "262ec341-7024-429a-ca41-74e64271223b"
      },
      "execution_count": null,
      "outputs": [
        {
          "output_type": "stream",
          "name": "stdout",
          "text": [
            "root\n",
            " |-- BusinessYear: string (nullable = true)\n",
            " |-- StateCode: string (nullable = true)\n",
            " |-- IssuerId: string (nullable = true)\n",
            " |-- SourceName: string (nullable = true)\n",
            " |-- VersionNum: string (nullable = true)\n",
            " |-- ImportDate: string (nullable = true)\n",
            " |-- IssuerId2: string (nullable = true)\n",
            " |-- FederalTIN: string (nullable = true)\n",
            " |-- RateEffectiveDate: string (nullable = true)\n",
            " |-- RateExpirationDate: string (nullable = true)\n",
            " |-- PlanId: string (nullable = true)\n",
            " |-- RatingAreaId: string (nullable = true)\n",
            " |-- Tobacco: string (nullable = true)\n",
            " |-- Age: string (nullable = true)\n",
            " |-- IndividualRate: string (nullable = true)\n",
            " |-- IndividualTobaccoRate: string (nullable = true)\n",
            " |-- Couple: string (nullable = true)\n",
            " |-- PrimarySubscriberAndOneDependent: string (nullable = true)\n",
            " |-- PrimarySubscriberAndTwoDependents: string (nullable = true)\n",
            " |-- PrimarySubscriberAndThreeOrMoreDependents: string (nullable = true)\n",
            " |-- CoupleAndOneDependent: string (nullable = true)\n",
            " |-- CoupleAndTwoDependents: string (nullable = true)\n",
            " |-- CoupleAndThreeOrMoreDependents: string (nullable = true)\n",
            " |-- RowNumber: string (nullable = true)\n",
            "\n",
            "CPU times: user 2.96 ms, sys: 0 ns, total: 2.96 ms\n",
            "Wall time: 12.9 ms\n"
          ]
        }
      ]
    },
    {
      "cell_type": "markdown",
      "source": [
        "##Number of rows in DF"
      ],
      "metadata": {
        "id": "XSCQfnfIDTid"
      }
    },
    {
      "cell_type": "code",
      "source": [
        "%%time\n",
        "spark_df.count()"
      ],
      "metadata": {
        "colab": {
          "base_uri": "https://localhost:8080/"
        },
        "id": "5dG8PSOU1Sbj",
        "outputId": "c7437ba9-cce2-415d-efec-586a575af472"
      },
      "execution_count": null,
      "outputs": [
        {
          "output_type": "stream",
          "name": "stdout",
          "text": [
            "CPU times: user 129 ms, sys: 22.5 ms, total: 152 ms\n",
            "Wall time: 22.1 s\n"
          ]
        },
        {
          "output_type": "execute_result",
          "data": {
            "text/plain": [
              "12694445"
            ]
          },
          "metadata": {},
          "execution_count": 9
        }
      ]
    },
    {
      "cell_type": "markdown",
      "source": [
        "##Display specific columns"
      ],
      "metadata": {
        "id": "-QDKhdWTDUsl"
      }
    },
    {
      "cell_type": "code",
      "source": [
        "%%time\n",
        "spark_df.select(\"BusinessYear\",\"ImportDate\",\"Age\",\"IndividualRate\",\"IndividualTobaccoRate\").show(5)"
      ],
      "metadata": {
        "colab": {
          "base_uri": "https://localhost:8080/"
        },
        "id": "7f20_1-j1kFB",
        "outputId": "6fd604dc-061c-47c3-95f0-28d8fd56f79b"
      },
      "execution_count": null,
      "outputs": [
        {
          "output_type": "stream",
          "name": "stdout",
          "text": [
            "+------------+-------------------+-------------+--------------+---------------------+\n",
            "|BusinessYear|         ImportDate|          Age|IndividualRate|IndividualTobaccoRate|\n",
            "+------------+-------------------+-------------+--------------+---------------------+\n",
            "|        2014|2014-03-19 07:06:49|         0-20|          29.0|                 null|\n",
            "|        2014|2014-03-19 07:06:49|Family Option|         36.95|                 null|\n",
            "|        2014|2014-03-19 07:06:49|Family Option|         36.95|                 null|\n",
            "|        2014|2014-03-19 07:06:49|           21|          32.0|                 null|\n",
            "|        2014|2014-03-19 07:06:49|           22|          32.0|                 null|\n",
            "+------------+-------------------+-------------+--------------+---------------------+\n",
            "only showing top 5 rows\n",
            "\n",
            "CPU times: user 10.1 ms, sys: 0 ns, total: 10.1 ms\n",
            "Wall time: 339 ms\n"
          ]
        }
      ]
    },
    {
      "cell_type": "markdown",
      "source": [
        "##Calculate mean"
      ],
      "metadata": {
        "id": "DxZ1Y_ucDY6D"
      }
    },
    {
      "cell_type": "code",
      "source": [
        "%%time\n",
        "spark_df.agg({'IndividualRate': 'mean'}).show()"
      ],
      "metadata": {
        "colab": {
          "base_uri": "https://localhost:8080/"
        },
        "id": "eo2jBzCGDj86",
        "outputId": "cea53c13-362f-4aa8-8ae6-c26dd628c980"
      },
      "execution_count": null,
      "outputs": [
        {
          "output_type": "stream",
          "name": "stdout",
          "text": [
            "+-------------------+\n",
            "|avg(IndividualRate)|\n",
            "+-------------------+\n",
            "|   4098.02645859167|\n",
            "+-------------------+\n",
            "\n",
            "CPU times: user 234 ms, sys: 29.9 ms, total: 264 ms\n",
            "Wall time: 45 s\n"
          ]
        }
      ]
    },
    {
      "cell_type": "code",
      "source": [],
      "metadata": {
        "id": "rbjIXoeXD-ok"
      },
      "execution_count": null,
      "outputs": []
    }
  ],
  "metadata": {
    "kernelspec": {
      "display_name": "Python 3",
      "language": "python",
      "name": "python3"
    },
    "language_info": {
      "codemirror_mode": {
        "name": "ipython",
        "version": 3
      },
      "file_extension": ".py",
      "mimetype": "text/x-python",
      "name": "python",
      "nbconvert_exporter": "python",
      "pygments_lexer": "ipython3",
      "version": "3.8.5"
    },
    "colab": {
      "provenance": []
    }
  },
  "nbformat": 4,
  "nbformat_minor": 0
}
