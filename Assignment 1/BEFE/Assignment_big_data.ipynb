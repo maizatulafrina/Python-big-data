{
  "cells": [
    {
      "cell_type": "markdown",
      "metadata": {
        "id": "XBtcnU6iVJJx"
      },
      "source": [
        "## Assignment: Big Data\n",
        "\n",
        "This is the starter notebook for the case study project. You will pick a real-world dataset of your choice and apply the concepts learned in this topic. Use this starter notebook as an outline for your project . Focus on documentation and presentation - this Jupyter notebook will also serve as a project report, so make sure to include detailed explanations wherever possible using Markdown cells.\n",
        "\n",
        "### Intructions\n",
        "1. This assignment must be completed in pairs (2 students in a group).\n",
        "2. You need to use a dataset that is larger than 100MB. You can get the dataset from [Kaggle](https://www.kaggle.com/datasets) or [Dataset Search](https://datasetsearch.research.google.com/). The dataset file must be of CSV type.\n",
        "2. The dataset must be stored in Google Drive.\n",
        "3. Make sure you create a link to enable your dataset to be used on Google Colab.\n",
        "4. Please create operations related to big data that allow the dataset to be used.\n",
        "\n",
        "### Submission\n",
        "1.   You need to send the *.pynb file. Make sure you have linked Google Colab with your dataset (Google Drive). \n",
        "2.   Save your file on Github. Make sure it can be opened in Google Colab by using <a href=\"https://www.utm.my\" target=\"_parent\"><img src=\"https://colab.research.google.com/assets/colab-badge.svg\" alt=\"Open In Colab\"/></a>\n",
        "3.   Please submit it via e-learning.\n",
        "\n",
        "### Evaluation Criteria\n",
        "\n",
        "Your submission will be evaluated using the following criteria:\n",
        "\n",
        "* Dataset must contain at least larger than 100MB\n",
        "* Please implement data processing related to the concept of big data.\n",
        "* You must ask and answer at least 5 questions about the dataset\n",
        "* Your submission must include explanations using markdown cells, apart from the code.\n",
        "* Your work must not be plagiarized i.e. copy-pasted from somewhere else.\n",
        "\n",
        "\n",
        "Follow this step-by-step guide to work on your project.\n",
        "\n",
        "### Step 1: Select a real-world dataset \n",
        "\n",
        "- The dataset is available at:\n",
        "  * [Kaggle](https://www.kaggle.com/datasets) \n",
        "  * [Dataset Search](https://datasetsearch.research.google.com/)\n",
        "\n",
        "\n",
        "### Step 2: Perform data preparation & cleaning\n",
        "\n",
        "\n",
        "### Step 3: Perform exploratory analysis & visualization\n",
        "\n",
        "### Step 4: Ask & answer questions about the data\n",
        "\n",
        "### Step 5: Summarize your inferences & write a conclusion\n",
        "\n",
        "- Write a summary of what you've learned from the analysis\n",
        "- Include interesting insights and graphs from previous sections\n",
        "- Share links to resources you found useful during your analysis\n",
        "\n",
        "### Step 6: Make a submission\n",
        "\n",
        "- Upload your notebook to e-learning.\n",
        "\n",
        "**NOTE**: Remove this cell containing the instructions before making your submission. You can do using the \"Edit > Delete Cells\" menu option."
      ]
    },
    {
      "cell_type": "markdown",
      "metadata": {
        "id": "7F8DQl5dVJJ0"
      },
      "source": [
        "# Project Title\n",
        "\n",
        "TODO - Write some introduction about your project here: describe the dataset, where you got it from, what you're trying to do with it, and which tools & techniques you're using. Please provide your group member name and their matrix number."
      ]
    },
    {
      "cell_type": "markdown",
      "metadata": {
        "id": "LxWzVndBVJJ1"
      },
      "source": [
        "## Downloading the Dataset\n",
        "\n",
        "**TODO** - add some explanation here"
      ]
    },
    {
      "cell_type": "markdown",
      "metadata": {
        "id": "oHRcyidmVJJ1"
      },
      "source": [
        "\n",
        "> Instructions for downloading the dataset (delete this cell) - Dataset in Gi\n"
      ]
    },
    {
      "cell_type": "markdown",
      "metadata": {
        "id": "GhhO14GEVJJ2"
      },
      "source": [
        "Let's begin by downloading the data, and listing the files within the dataset."
      ]
    },
    {
      "cell_type": "code",
      "execution_count": 1,
      "metadata": {
        "id": "90nIoWQtVJJ3"
      },
      "outputs": [],
      "source": [
        "# !pip install -q kaggle\n",
        "# from google.colab import files\n",
        "# files.upload()"
      ]
    },
    {
      "cell_type": "code",
      "source": [
        "# !mkdir ~/.kaggle\n",
        "# !cp kaggle.json ~/.kaggle/\n",
        "# !chmod 600 ~/.kaggle/kaggle.json"
      ],
      "metadata": {
        "id": "ScC7_CJ56W-K"
      },
      "execution_count": 2,
      "outputs": []
    },
    {
      "cell_type": "code",
      "source": [
        "# !kaggle datasets download -d gauthamp10/google-playstore-apps\n",
        "# !unzip google-playstore-apps.zip"
      ],
      "metadata": {
        "id": "mNWMsp0sgcs-"
      },
      "execution_count": 3,
      "outputs": []
    },
    {
      "cell_type": "code",
      "source": [
        "# Read dataset from google drive\n",
        "!pip install -U -q PyDrive\n",
        "from pydrive.auth import GoogleAuth\n",
        "from pydrive.drive import GoogleDrive\n",
        "from google.colab import auth\n",
        "from oauth2client.client import GoogleCredentials\n",
        "\n",
        "# Authenticate and create the PyDrive client.\n",
        "auth.authenticate_user()\n",
        "gauth = GoogleAuth()\n",
        "gauth.credentials = GoogleCredentials.get_application_default()\n",
        "drive = GoogleDrive(gauth)\n",
        "link = 'https://drive.google.com/file/d/1FBhHG2mO_Ezj_gjCvOccpwZfY0Fqlf71/view?usp=sharing'\n",
        "# to get the id part of the file\n",
        "id = link.split(\"/\")[-2]\n",
        " \n",
        "downloaded = drive.CreateFile({'id':id})\n",
        "downloaded.GetContentFile('Google-Playstore.csv') "
      ],
      "metadata": {
        "id": "wl8Q-MY_WvbL"
      },
      "execution_count": 4,
      "outputs": []
    },
    {
      "cell_type": "markdown",
      "metadata": {
        "id": "XXnPmr-JVJJ3"
      },
      "source": [
        "The dataset has been downloaded and extracted."
      ]
    },
    {
      "cell_type": "code",
      "execution_count": 5,
      "metadata": {
        "id": "uowAPeffVJJ4",
        "colab": {
          "base_uri": "https://localhost:8080/",
          "height": 921
        },
        "outputId": "5a3a4410-af48-4bdb-f4c0-e1705b915abf"
      },
      "outputs": [
        {
          "output_type": "execute_result",
          "data": {
            "text/plain": [
              "                                                  App Name  \\\n",
              "0                                                  Gakondo   \n",
              "1                                      Ampere Battery Info   \n",
              "2                                                   Vibook   \n",
              "3        Smart City Trichy Public Service Vehicles 17UC...   \n",
              "4                                                  GROW.me   \n",
              "...                                                    ...   \n",
              "2312939                                           大俠客—熱血歸來   \n",
              "2312940                                         ORU Online   \n",
              "2312941                                     Data Structure   \n",
              "2312942                                        Devi Suktam   \n",
              "2312943                       Biliyor Musun - Sonsuz Yarış   \n",
              "\n",
              "                                       App Id       Category  Rating  \\\n",
              "0                         com.ishakwe.gakondo      Adventure     0.0   \n",
              "1                  com.webserveis.batteryinfo          Tools     4.4   \n",
              "2                        com.doantiepvien.crm   Productivity     0.0   \n",
              "3                     cst.stJoseph.ug17ucs548  Communication     5.0   \n",
              "4                        com.horodyski.grower          Tools     0.0   \n",
              "...                                       ...            ...     ...   \n",
              "2312939                         com.rxsj.ssjj   Role Playing     4.3   \n",
              "2312940              com.threedream.oruonline      Education     0.0   \n",
              "2312941  datastructure.appoworld.datastucture      Education     0.0   \n",
              "2312942                     ishan.devi.suktam  Music & Audio     3.5   \n",
              "2312943             com.yyazilim.biliyormusun         Trivia     5.0   \n",
              "\n",
              "         Rating Count  Installs  Minimum Installs  Maximum Installs  Free  \\\n",
              "0                 0.0       10+              10.0                15  True   \n",
              "1                64.0    5,000+            5000.0              7662  True   \n",
              "2                 0.0       50+              50.0                58  True   \n",
              "3                 5.0       10+              10.0                19  True   \n",
              "4                 0.0      100+             100.0               478  True   \n",
              "...               ...       ...               ...               ...   ...   \n",
              "2312939       16775.0  100,000+          100000.0            337109  True   \n",
              "2312940           0.0      100+             100.0               430  True   \n",
              "2312941           0.0      100+             100.0               202  True   \n",
              "2312942           8.0    1,000+            1000.0              2635  True   \n",
              "2312943          12.0      100+             100.0               354  True   \n",
              "\n",
              "         Price  ...                  Developer Website  \\\n",
              "0          0.0  ...        https://beniyizibyose.tk/#/   \n",
              "1          0.0  ...    https://webserveis.netlify.app/   \n",
              "2          0.0  ...                                NaN   \n",
              "3          0.0  ...   http://www.climatesmarttech.com/   \n",
              "4          0.0  ...        http://www.horodyski.com.pl   \n",
              "...        ...  ...                                ...   \n",
              "2312939    0.0  ...          http://www.4399sy.com.hk/   \n",
              "2312940    0.0  ...                http://www.oru.edu/   \n",
              "2312941    0.0  ...                                NaN   \n",
              "2312942    0.0  ...  https://a70f78905.app-ads-txt.com   \n",
              "2312943    0.0  ...                                NaN   \n",
              "\n",
              "                      Developer Email      Released  Last Updated  \\\n",
              "0              jean21101999@gmail.com  Feb 26, 2020  Feb 26, 2020   \n",
              "1                webserveis@gmail.com  May 21, 2020  May 06, 2021   \n",
              "2                 vnacrewit@gmail.com   Aug 9, 2019  Aug 19, 2019   \n",
              "3         climatesmarttech2@gmail.com  Sep 10, 2018  Oct 13, 2018   \n",
              "4           rmilekhorodyski@gmail.com  Feb 21, 2020  Nov 12, 2018   \n",
              "...                               ...           ...           ...   \n",
              "2312939           ssjjcomhk@gmail.com           NaN  Jun 01, 2021   \n",
              "2312940     3DreamDeveloper@gmail.com  Jan 17, 2018  Feb 02, 2018   \n",
              "2312941  appoworld.official@gmail.com  Aug 19, 2018  Aug 19, 2018   \n",
              "2312942           ruchisono@gmail.com   Aug 1, 2016  May 05, 2021   \n",
              "2312943     yyazilimdevelop@gmail.com   Aug 9, 2019  Aug 19, 2019   \n",
              "\n",
              "        Content Rating                                     Privacy Policy  \\\n",
              "0             Everyone                 https://beniyizibyose.tk/projects/   \n",
              "1             Everyone  https://dev4phones.wordpress.com/licencia-de-uso/   \n",
              "2             Everyone  https://www.vietnamairlines.com/vn/en/terms-an...   \n",
              "3             Everyone                                                NaN   \n",
              "4             Everyone                        http://www.horodyski.com.pl   \n",
              "...                ...                                                ...   \n",
              "2312939           Teen             http://a.4399sy.com.hk/user/aggreement   \n",
              "2312940       Everyone    http://www.oru.edu/about-oru/privacy-policy.php   \n",
              "2312941       Everyone  https://appoworld.000webhostapp.com/datastruct...   \n",
              "2312942       Everyone  https://docs.google.com/document/d/1x-9reZuLRX...   \n",
              "2312943       Everyone  https://biliyor-musun-sons.flycricket.io/priva...   \n",
              "\n",
              "        Ad Supported In App Purchases Editors Choice         Scraped Time  \n",
              "0              False            False          False  2021-06-15 20:19:35  \n",
              "1               True            False          False  2021-06-15 20:19:35  \n",
              "2              False            False          False  2021-06-15 20:19:35  \n",
              "3               True            False          False  2021-06-15 20:19:35  \n",
              "4              False            False          False  2021-06-15 20:19:35  \n",
              "...              ...              ...            ...                  ...  \n",
              "2312939        False            False          False  2021-06-16 12:59:18  \n",
              "2312940        False            False          False  2021-06-16 12:59:19  \n",
              "2312941        False            False          False  2021-06-16 12:59:19  \n",
              "2312942         True            False          False  2021-06-16 12:59:19  \n",
              "2312943         True            False          False  2021-06-16 12:59:19  \n",
              "\n",
              "[2312944 rows x 24 columns]"
            ],
            "text/html": [
              "\n",
              "  <div id=\"df-a4273f9b-d9b5-4711-91af-95b3000f5583\">\n",
              "    <div class=\"colab-df-container\">\n",
              "      <div>\n",
              "<style scoped>\n",
              "    .dataframe tbody tr th:only-of-type {\n",
              "        vertical-align: middle;\n",
              "    }\n",
              "\n",
              "    .dataframe tbody tr th {\n",
              "        vertical-align: top;\n",
              "    }\n",
              "\n",
              "    .dataframe thead th {\n",
              "        text-align: right;\n",
              "    }\n",
              "</style>\n",
              "<table border=\"1\" class=\"dataframe\">\n",
              "  <thead>\n",
              "    <tr style=\"text-align: right;\">\n",
              "      <th></th>\n",
              "      <th>App Name</th>\n",
              "      <th>App Id</th>\n",
              "      <th>Category</th>\n",
              "      <th>Rating</th>\n",
              "      <th>Rating Count</th>\n",
              "      <th>Installs</th>\n",
              "      <th>Minimum Installs</th>\n",
              "      <th>Maximum Installs</th>\n",
              "      <th>Free</th>\n",
              "      <th>Price</th>\n",
              "      <th>...</th>\n",
              "      <th>Developer Website</th>\n",
              "      <th>Developer Email</th>\n",
              "      <th>Released</th>\n",
              "      <th>Last Updated</th>\n",
              "      <th>Content Rating</th>\n",
              "      <th>Privacy Policy</th>\n",
              "      <th>Ad Supported</th>\n",
              "      <th>In App Purchases</th>\n",
              "      <th>Editors Choice</th>\n",
              "      <th>Scraped Time</th>\n",
              "    </tr>\n",
              "  </thead>\n",
              "  <tbody>\n",
              "    <tr>\n",
              "      <th>0</th>\n",
              "      <td>Gakondo</td>\n",
              "      <td>com.ishakwe.gakondo</td>\n",
              "      <td>Adventure</td>\n",
              "      <td>0.0</td>\n",
              "      <td>0.0</td>\n",
              "      <td>10+</td>\n",
              "      <td>10.0</td>\n",
              "      <td>15</td>\n",
              "      <td>True</td>\n",
              "      <td>0.0</td>\n",
              "      <td>...</td>\n",
              "      <td>https://beniyizibyose.tk/#/</td>\n",
              "      <td>jean21101999@gmail.com</td>\n",
              "      <td>Feb 26, 2020</td>\n",
              "      <td>Feb 26, 2020</td>\n",
              "      <td>Everyone</td>\n",
              "      <td>https://beniyizibyose.tk/projects/</td>\n",
              "      <td>False</td>\n",
              "      <td>False</td>\n",
              "      <td>False</td>\n",
              "      <td>2021-06-15 20:19:35</td>\n",
              "    </tr>\n",
              "    <tr>\n",
              "      <th>1</th>\n",
              "      <td>Ampere Battery Info</td>\n",
              "      <td>com.webserveis.batteryinfo</td>\n",
              "      <td>Tools</td>\n",
              "      <td>4.4</td>\n",
              "      <td>64.0</td>\n",
              "      <td>5,000+</td>\n",
              "      <td>5000.0</td>\n",
              "      <td>7662</td>\n",
              "      <td>True</td>\n",
              "      <td>0.0</td>\n",
              "      <td>...</td>\n",
              "      <td>https://webserveis.netlify.app/</td>\n",
              "      <td>webserveis@gmail.com</td>\n",
              "      <td>May 21, 2020</td>\n",
              "      <td>May 06, 2021</td>\n",
              "      <td>Everyone</td>\n",
              "      <td>https://dev4phones.wordpress.com/licencia-de-uso/</td>\n",
              "      <td>True</td>\n",
              "      <td>False</td>\n",
              "      <td>False</td>\n",
              "      <td>2021-06-15 20:19:35</td>\n",
              "    </tr>\n",
              "    <tr>\n",
              "      <th>2</th>\n",
              "      <td>Vibook</td>\n",
              "      <td>com.doantiepvien.crm</td>\n",
              "      <td>Productivity</td>\n",
              "      <td>0.0</td>\n",
              "      <td>0.0</td>\n",
              "      <td>50+</td>\n",
              "      <td>50.0</td>\n",
              "      <td>58</td>\n",
              "      <td>True</td>\n",
              "      <td>0.0</td>\n",
              "      <td>...</td>\n",
              "      <td>NaN</td>\n",
              "      <td>vnacrewit@gmail.com</td>\n",
              "      <td>Aug 9, 2019</td>\n",
              "      <td>Aug 19, 2019</td>\n",
              "      <td>Everyone</td>\n",
              "      <td>https://www.vietnamairlines.com/vn/en/terms-an...</td>\n",
              "      <td>False</td>\n",
              "      <td>False</td>\n",
              "      <td>False</td>\n",
              "      <td>2021-06-15 20:19:35</td>\n",
              "    </tr>\n",
              "    <tr>\n",
              "      <th>3</th>\n",
              "      <td>Smart City Trichy Public Service Vehicles 17UC...</td>\n",
              "      <td>cst.stJoseph.ug17ucs548</td>\n",
              "      <td>Communication</td>\n",
              "      <td>5.0</td>\n",
              "      <td>5.0</td>\n",
              "      <td>10+</td>\n",
              "      <td>10.0</td>\n",
              "      <td>19</td>\n",
              "      <td>True</td>\n",
              "      <td>0.0</td>\n",
              "      <td>...</td>\n",
              "      <td>http://www.climatesmarttech.com/</td>\n",
              "      <td>climatesmarttech2@gmail.com</td>\n",
              "      <td>Sep 10, 2018</td>\n",
              "      <td>Oct 13, 2018</td>\n",
              "      <td>Everyone</td>\n",
              "      <td>NaN</td>\n",
              "      <td>True</td>\n",
              "      <td>False</td>\n",
              "      <td>False</td>\n",
              "      <td>2021-06-15 20:19:35</td>\n",
              "    </tr>\n",
              "    <tr>\n",
              "      <th>4</th>\n",
              "      <td>GROW.me</td>\n",
              "      <td>com.horodyski.grower</td>\n",
              "      <td>Tools</td>\n",
              "      <td>0.0</td>\n",
              "      <td>0.0</td>\n",
              "      <td>100+</td>\n",
              "      <td>100.0</td>\n",
              "      <td>478</td>\n",
              "      <td>True</td>\n",
              "      <td>0.0</td>\n",
              "      <td>...</td>\n",
              "      <td>http://www.horodyski.com.pl</td>\n",
              "      <td>rmilekhorodyski@gmail.com</td>\n",
              "      <td>Feb 21, 2020</td>\n",
              "      <td>Nov 12, 2018</td>\n",
              "      <td>Everyone</td>\n",
              "      <td>http://www.horodyski.com.pl</td>\n",
              "      <td>False</td>\n",
              "      <td>False</td>\n",
              "      <td>False</td>\n",
              "      <td>2021-06-15 20:19:35</td>\n",
              "    </tr>\n",
              "    <tr>\n",
              "      <th>...</th>\n",
              "      <td>...</td>\n",
              "      <td>...</td>\n",
              "      <td>...</td>\n",
              "      <td>...</td>\n",
              "      <td>...</td>\n",
              "      <td>...</td>\n",
              "      <td>...</td>\n",
              "      <td>...</td>\n",
              "      <td>...</td>\n",
              "      <td>...</td>\n",
              "      <td>...</td>\n",
              "      <td>...</td>\n",
              "      <td>...</td>\n",
              "      <td>...</td>\n",
              "      <td>...</td>\n",
              "      <td>...</td>\n",
              "      <td>...</td>\n",
              "      <td>...</td>\n",
              "      <td>...</td>\n",
              "      <td>...</td>\n",
              "      <td>...</td>\n",
              "    </tr>\n",
              "    <tr>\n",
              "      <th>2312939</th>\n",
              "      <td>大俠客—熱血歸來</td>\n",
              "      <td>com.rxsj.ssjj</td>\n",
              "      <td>Role Playing</td>\n",
              "      <td>4.3</td>\n",
              "      <td>16775.0</td>\n",
              "      <td>100,000+</td>\n",
              "      <td>100000.0</td>\n",
              "      <td>337109</td>\n",
              "      <td>True</td>\n",
              "      <td>0.0</td>\n",
              "      <td>...</td>\n",
              "      <td>http://www.4399sy.com.hk/</td>\n",
              "      <td>ssjjcomhk@gmail.com</td>\n",
              "      <td>NaN</td>\n",
              "      <td>Jun 01, 2021</td>\n",
              "      <td>Teen</td>\n",
              "      <td>http://a.4399sy.com.hk/user/aggreement</td>\n",
              "      <td>False</td>\n",
              "      <td>False</td>\n",
              "      <td>False</td>\n",
              "      <td>2021-06-16 12:59:18</td>\n",
              "    </tr>\n",
              "    <tr>\n",
              "      <th>2312940</th>\n",
              "      <td>ORU Online</td>\n",
              "      <td>com.threedream.oruonline</td>\n",
              "      <td>Education</td>\n",
              "      <td>0.0</td>\n",
              "      <td>0.0</td>\n",
              "      <td>100+</td>\n",
              "      <td>100.0</td>\n",
              "      <td>430</td>\n",
              "      <td>True</td>\n",
              "      <td>0.0</td>\n",
              "      <td>...</td>\n",
              "      <td>http://www.oru.edu/</td>\n",
              "      <td>3DreamDeveloper@gmail.com</td>\n",
              "      <td>Jan 17, 2018</td>\n",
              "      <td>Feb 02, 2018</td>\n",
              "      <td>Everyone</td>\n",
              "      <td>http://www.oru.edu/about-oru/privacy-policy.php</td>\n",
              "      <td>False</td>\n",
              "      <td>False</td>\n",
              "      <td>False</td>\n",
              "      <td>2021-06-16 12:59:19</td>\n",
              "    </tr>\n",
              "    <tr>\n",
              "      <th>2312941</th>\n",
              "      <td>Data Structure</td>\n",
              "      <td>datastructure.appoworld.datastucture</td>\n",
              "      <td>Education</td>\n",
              "      <td>0.0</td>\n",
              "      <td>0.0</td>\n",
              "      <td>100+</td>\n",
              "      <td>100.0</td>\n",
              "      <td>202</td>\n",
              "      <td>True</td>\n",
              "      <td>0.0</td>\n",
              "      <td>...</td>\n",
              "      <td>NaN</td>\n",
              "      <td>appoworld.official@gmail.com</td>\n",
              "      <td>Aug 19, 2018</td>\n",
              "      <td>Aug 19, 2018</td>\n",
              "      <td>Everyone</td>\n",
              "      <td>https://appoworld.000webhostapp.com/datastruct...</td>\n",
              "      <td>False</td>\n",
              "      <td>False</td>\n",
              "      <td>False</td>\n",
              "      <td>2021-06-16 12:59:19</td>\n",
              "    </tr>\n",
              "    <tr>\n",
              "      <th>2312942</th>\n",
              "      <td>Devi Suktam</td>\n",
              "      <td>ishan.devi.suktam</td>\n",
              "      <td>Music &amp; Audio</td>\n",
              "      <td>3.5</td>\n",
              "      <td>8.0</td>\n",
              "      <td>1,000+</td>\n",
              "      <td>1000.0</td>\n",
              "      <td>2635</td>\n",
              "      <td>True</td>\n",
              "      <td>0.0</td>\n",
              "      <td>...</td>\n",
              "      <td>https://a70f78905.app-ads-txt.com</td>\n",
              "      <td>ruchisono@gmail.com</td>\n",
              "      <td>Aug 1, 2016</td>\n",
              "      <td>May 05, 2021</td>\n",
              "      <td>Everyone</td>\n",
              "      <td>https://docs.google.com/document/d/1x-9reZuLRX...</td>\n",
              "      <td>True</td>\n",
              "      <td>False</td>\n",
              "      <td>False</td>\n",
              "      <td>2021-06-16 12:59:19</td>\n",
              "    </tr>\n",
              "    <tr>\n",
              "      <th>2312943</th>\n",
              "      <td>Biliyor Musun - Sonsuz Yarış</td>\n",
              "      <td>com.yyazilim.biliyormusun</td>\n",
              "      <td>Trivia</td>\n",
              "      <td>5.0</td>\n",
              "      <td>12.0</td>\n",
              "      <td>100+</td>\n",
              "      <td>100.0</td>\n",
              "      <td>354</td>\n",
              "      <td>True</td>\n",
              "      <td>0.0</td>\n",
              "      <td>...</td>\n",
              "      <td>NaN</td>\n",
              "      <td>yyazilimdevelop@gmail.com</td>\n",
              "      <td>Aug 9, 2019</td>\n",
              "      <td>Aug 19, 2019</td>\n",
              "      <td>Everyone</td>\n",
              "      <td>https://biliyor-musun-sons.flycricket.io/priva...</td>\n",
              "      <td>True</td>\n",
              "      <td>False</td>\n",
              "      <td>False</td>\n",
              "      <td>2021-06-16 12:59:19</td>\n",
              "    </tr>\n",
              "  </tbody>\n",
              "</table>\n",
              "<p>2312944 rows × 24 columns</p>\n",
              "</div>\n",
              "      <button class=\"colab-df-convert\" onclick=\"convertToInteractive('df-a4273f9b-d9b5-4711-91af-95b3000f5583')\"\n",
              "              title=\"Convert this dataframe to an interactive table.\"\n",
              "              style=\"display:none;\">\n",
              "        \n",
              "  <svg xmlns=\"http://www.w3.org/2000/svg\" height=\"24px\"viewBox=\"0 0 24 24\"\n",
              "       width=\"24px\">\n",
              "    <path d=\"M0 0h24v24H0V0z\" fill=\"none\"/>\n",
              "    <path d=\"M18.56 5.44l.94 2.06.94-2.06 2.06-.94-2.06-.94-.94-2.06-.94 2.06-2.06.94zm-11 1L8.5 8.5l.94-2.06 2.06-.94-2.06-.94L8.5 2.5l-.94 2.06-2.06.94zm10 10l.94 2.06.94-2.06 2.06-.94-2.06-.94-.94-2.06-.94 2.06-2.06.94z\"/><path d=\"M17.41 7.96l-1.37-1.37c-.4-.4-.92-.59-1.43-.59-.52 0-1.04.2-1.43.59L10.3 9.45l-7.72 7.72c-.78.78-.78 2.05 0 2.83L4 21.41c.39.39.9.59 1.41.59.51 0 1.02-.2 1.41-.59l7.78-7.78 2.81-2.81c.8-.78.8-2.07 0-2.86zM5.41 20L4 18.59l7.72-7.72 1.47 1.35L5.41 20z\"/>\n",
              "  </svg>\n",
              "      </button>\n",
              "      \n",
              "  <style>\n",
              "    .colab-df-container {\n",
              "      display:flex;\n",
              "      flex-wrap:wrap;\n",
              "      gap: 12px;\n",
              "    }\n",
              "\n",
              "    .colab-df-convert {\n",
              "      background-color: #E8F0FE;\n",
              "      border: none;\n",
              "      border-radius: 50%;\n",
              "      cursor: pointer;\n",
              "      display: none;\n",
              "      fill: #1967D2;\n",
              "      height: 32px;\n",
              "      padding: 0 0 0 0;\n",
              "      width: 32px;\n",
              "    }\n",
              "\n",
              "    .colab-df-convert:hover {\n",
              "      background-color: #E2EBFA;\n",
              "      box-shadow: 0px 1px 2px rgba(60, 64, 67, 0.3), 0px 1px 3px 1px rgba(60, 64, 67, 0.15);\n",
              "      fill: #174EA6;\n",
              "    }\n",
              "\n",
              "    [theme=dark] .colab-df-convert {\n",
              "      background-color: #3B4455;\n",
              "      fill: #D2E3FC;\n",
              "    }\n",
              "\n",
              "    [theme=dark] .colab-df-convert:hover {\n",
              "      background-color: #434B5C;\n",
              "      box-shadow: 0px 1px 3px 1px rgba(0, 0, 0, 0.15);\n",
              "      filter: drop-shadow(0px 1px 2px rgba(0, 0, 0, 0.3));\n",
              "      fill: #FFFFFF;\n",
              "    }\n",
              "  </style>\n",
              "\n",
              "      <script>\n",
              "        const buttonEl =\n",
              "          document.querySelector('#df-a4273f9b-d9b5-4711-91af-95b3000f5583 button.colab-df-convert');\n",
              "        buttonEl.style.display =\n",
              "          google.colab.kernel.accessAllowed ? 'block' : 'none';\n",
              "\n",
              "        async function convertToInteractive(key) {\n",
              "          const element = document.querySelector('#df-a4273f9b-d9b5-4711-91af-95b3000f5583');\n",
              "          const dataTable =\n",
              "            await google.colab.kernel.invokeFunction('convertToInteractive',\n",
              "                                                     [key], {});\n",
              "          if (!dataTable) return;\n",
              "\n",
              "          const docLinkHtml = 'Like what you see? Visit the ' +\n",
              "            '<a target=\"_blank\" href=https://colab.research.google.com/notebooks/data_table.ipynb>data table notebook</a>'\n",
              "            + ' to learn more about interactive tables.';\n",
              "          element.innerHTML = '';\n",
              "          dataTable['output_type'] = 'display_data';\n",
              "          await google.colab.output.renderOutput(dataTable, element);\n",
              "          const docLink = document.createElement('div');\n",
              "          docLink.innerHTML = docLinkHtml;\n",
              "          element.appendChild(docLink);\n",
              "        }\n",
              "      </script>\n",
              "    </div>\n",
              "  </div>\n",
              "  "
            ]
          },
          "metadata": {},
          "execution_count": 5
        }
      ],
      "source": [
        "import matplotlib\n",
        "import pandas as pd\n",
        "import seaborn as sns\n",
        "from matplotlib import pyplot as plt\n",
        "import statsmodels.formula.api as smf\n",
        "\n",
        "df = pd.read_csv(\"Google-Playstore.csv\")\n",
        "df"
      ]
    },
    {
      "cell_type": "markdown",
      "metadata": {
        "id": "Jnx4zelxVJJ4"
      },
      "source": [
        "Next step"
      ]
    },
    {
      "cell_type": "markdown",
      "metadata": {
        "id": "u0vucnGFVJJ5"
      },
      "source": [
        "## Data Preparation and Cleaning\n",
        "\n",
        "**TODO** - Write some explanation here.\n",
        "\n"
      ]
    },
    {
      "cell_type": "markdown",
      "metadata": {
        "id": "gBzC1JheVJJ5"
      },
      "source": [
        "> Instructions (delete this cell):\n",
        ">\n",
        "> - Load the dataset into a data frame using Pandas\n",
        "> - Explore the number of rows & columns, ranges of values etc.\n",
        "> - Handle missing, incorrect and invalid data\n",
        "> - Perform any additional steps (parsing dates, creating additional columns, merging multiple dataset etc.)"
      ]
    },
    {
      "cell_type": "code",
      "source": [
        "df.info"
      ],
      "metadata": {
        "colab": {
          "base_uri": "https://localhost:8080/"
        },
        "id": "cnJsz9moKiD9",
        "outputId": "a5022196-8109-4cac-b63f-342f3fd0318d"
      },
      "execution_count": 6,
      "outputs": [
        {
          "output_type": "execute_result",
          "data": {
            "text/plain": [
              "<bound method DataFrame.info of                                                   App Name  \\\n",
              "0                                                  Gakondo   \n",
              "1                                      Ampere Battery Info   \n",
              "2                                                   Vibook   \n",
              "3        Smart City Trichy Public Service Vehicles 17UC...   \n",
              "4                                                  GROW.me   \n",
              "...                                                    ...   \n",
              "2312939                                           大俠客—熱血歸來   \n",
              "2312940                                         ORU Online   \n",
              "2312941                                     Data Structure   \n",
              "2312942                                        Devi Suktam   \n",
              "2312943                       Biliyor Musun - Sonsuz Yarış   \n",
              "\n",
              "                                       App Id       Category  Rating  \\\n",
              "0                         com.ishakwe.gakondo      Adventure     0.0   \n",
              "1                  com.webserveis.batteryinfo          Tools     4.4   \n",
              "2                        com.doantiepvien.crm   Productivity     0.0   \n",
              "3                     cst.stJoseph.ug17ucs548  Communication     5.0   \n",
              "4                        com.horodyski.grower          Tools     0.0   \n",
              "...                                       ...            ...     ...   \n",
              "2312939                         com.rxsj.ssjj   Role Playing     4.3   \n",
              "2312940              com.threedream.oruonline      Education     0.0   \n",
              "2312941  datastructure.appoworld.datastucture      Education     0.0   \n",
              "2312942                     ishan.devi.suktam  Music & Audio     3.5   \n",
              "2312943             com.yyazilim.biliyormusun         Trivia     5.0   \n",
              "\n",
              "         Rating Count  Installs  Minimum Installs  Maximum Installs  Free  \\\n",
              "0                 0.0       10+              10.0                15  True   \n",
              "1                64.0    5,000+            5000.0              7662  True   \n",
              "2                 0.0       50+              50.0                58  True   \n",
              "3                 5.0       10+              10.0                19  True   \n",
              "4                 0.0      100+             100.0               478  True   \n",
              "...               ...       ...               ...               ...   ...   \n",
              "2312939       16775.0  100,000+          100000.0            337109  True   \n",
              "2312940           0.0      100+             100.0               430  True   \n",
              "2312941           0.0      100+             100.0               202  True   \n",
              "2312942           8.0    1,000+            1000.0              2635  True   \n",
              "2312943          12.0      100+             100.0               354  True   \n",
              "\n",
              "         Price  ...                  Developer Website  \\\n",
              "0          0.0  ...        https://beniyizibyose.tk/#/   \n",
              "1          0.0  ...    https://webserveis.netlify.app/   \n",
              "2          0.0  ...                                NaN   \n",
              "3          0.0  ...   http://www.climatesmarttech.com/   \n",
              "4          0.0  ...        http://www.horodyski.com.pl   \n",
              "...        ...  ...                                ...   \n",
              "2312939    0.0  ...          http://www.4399sy.com.hk/   \n",
              "2312940    0.0  ...                http://www.oru.edu/   \n",
              "2312941    0.0  ...                                NaN   \n",
              "2312942    0.0  ...  https://a70f78905.app-ads-txt.com   \n",
              "2312943    0.0  ...                                NaN   \n",
              "\n",
              "                      Developer Email      Released  Last Updated  \\\n",
              "0              jean21101999@gmail.com  Feb 26, 2020  Feb 26, 2020   \n",
              "1                webserveis@gmail.com  May 21, 2020  May 06, 2021   \n",
              "2                 vnacrewit@gmail.com   Aug 9, 2019  Aug 19, 2019   \n",
              "3         climatesmarttech2@gmail.com  Sep 10, 2018  Oct 13, 2018   \n",
              "4           rmilekhorodyski@gmail.com  Feb 21, 2020  Nov 12, 2018   \n",
              "...                               ...           ...           ...   \n",
              "2312939           ssjjcomhk@gmail.com           NaN  Jun 01, 2021   \n",
              "2312940     3DreamDeveloper@gmail.com  Jan 17, 2018  Feb 02, 2018   \n",
              "2312941  appoworld.official@gmail.com  Aug 19, 2018  Aug 19, 2018   \n",
              "2312942           ruchisono@gmail.com   Aug 1, 2016  May 05, 2021   \n",
              "2312943     yyazilimdevelop@gmail.com   Aug 9, 2019  Aug 19, 2019   \n",
              "\n",
              "        Content Rating                                     Privacy Policy  \\\n",
              "0             Everyone                 https://beniyizibyose.tk/projects/   \n",
              "1             Everyone  https://dev4phones.wordpress.com/licencia-de-uso/   \n",
              "2             Everyone  https://www.vietnamairlines.com/vn/en/terms-an...   \n",
              "3             Everyone                                                NaN   \n",
              "4             Everyone                        http://www.horodyski.com.pl   \n",
              "...                ...                                                ...   \n",
              "2312939           Teen             http://a.4399sy.com.hk/user/aggreement   \n",
              "2312940       Everyone    http://www.oru.edu/about-oru/privacy-policy.php   \n",
              "2312941       Everyone  https://appoworld.000webhostapp.com/datastruct...   \n",
              "2312942       Everyone  https://docs.google.com/document/d/1x-9reZuLRX...   \n",
              "2312943       Everyone  https://biliyor-musun-sons.flycricket.io/priva...   \n",
              "\n",
              "        Ad Supported In App Purchases Editors Choice         Scraped Time  \n",
              "0              False            False          False  2021-06-15 20:19:35  \n",
              "1               True            False          False  2021-06-15 20:19:35  \n",
              "2              False            False          False  2021-06-15 20:19:35  \n",
              "3               True            False          False  2021-06-15 20:19:35  \n",
              "4              False            False          False  2021-06-15 20:19:35  \n",
              "...              ...              ...            ...                  ...  \n",
              "2312939        False            False          False  2021-06-16 12:59:18  \n",
              "2312940        False            False          False  2021-06-16 12:59:19  \n",
              "2312941        False            False          False  2021-06-16 12:59:19  \n",
              "2312942         True            False          False  2021-06-16 12:59:19  \n",
              "2312943         True            False          False  2021-06-16 12:59:19  \n",
              "\n",
              "[2312944 rows x 24 columns]>"
            ]
          },
          "metadata": {},
          "execution_count": 6
        }
      ]
    },
    {
      "cell_type": "code",
      "source": [
        "df.dtypes"
      ],
      "metadata": {
        "colab": {
          "base_uri": "https://localhost:8080/"
        },
        "id": "ae6NlDuBKiR9",
        "outputId": "df6e1b82-f627-4eb8-99fc-a0e781af9d6c"
      },
      "execution_count": 7,
      "outputs": [
        {
          "output_type": "execute_result",
          "data": {
            "text/plain": [
              "App Name              object\n",
              "App Id                object\n",
              "Category              object\n",
              "Rating               float64\n",
              "Rating Count         float64\n",
              "Installs              object\n",
              "Minimum Installs     float64\n",
              "Maximum Installs       int64\n",
              "Free                    bool\n",
              "Price                float64\n",
              "Currency              object\n",
              "Size                  object\n",
              "Minimum Android       object\n",
              "Developer Id          object\n",
              "Developer Website     object\n",
              "Developer Email       object\n",
              "Released              object\n",
              "Last Updated          object\n",
              "Content Rating        object\n",
              "Privacy Policy        object\n",
              "Ad Supported            bool\n",
              "In App Purchases        bool\n",
              "Editors Choice          bool\n",
              "Scraped Time          object\n",
              "dtype: object"
            ]
          },
          "metadata": {},
          "execution_count": 7
        }
      ]
    },
    {
      "cell_type": "code",
      "source": [
        "df = df.drop('Scraped Time', axis=1) #[remove unused column]\n",
        "df.dtypes"
      ],
      "metadata": {
        "colab": {
          "base_uri": "https://localhost:8080/"
        },
        "id": "AX-6L1BsKiVf",
        "outputId": "d94f87ce-e9d3-4cfd-969d-cb4b6e8d8272"
      },
      "execution_count": 8,
      "outputs": [
        {
          "output_type": "execute_result",
          "data": {
            "text/plain": [
              "App Name              object\n",
              "App Id                object\n",
              "Category              object\n",
              "Rating               float64\n",
              "Rating Count         float64\n",
              "Installs              object\n",
              "Minimum Installs     float64\n",
              "Maximum Installs       int64\n",
              "Free                    bool\n",
              "Price                float64\n",
              "Currency              object\n",
              "Size                  object\n",
              "Minimum Android       object\n",
              "Developer Id          object\n",
              "Developer Website     object\n",
              "Developer Email       object\n",
              "Released              object\n",
              "Last Updated          object\n",
              "Content Rating        object\n",
              "Privacy Policy        object\n",
              "Ad Supported            bool\n",
              "In App Purchases        bool\n",
              "Editors Choice          bool\n",
              "dtype: object"
            ]
          },
          "metadata": {},
          "execution_count": 8
        }
      ]
    },
    {
      "cell_type": "code",
      "source": [
        "df.isna().sum()"
      ],
      "metadata": {
        "colab": {
          "base_uri": "https://localhost:8080/"
        },
        "id": "OENjXTVZKiYv",
        "outputId": "9a190b32-119c-4ed3-aa99-fc7d0f6e4a8a"
      },
      "execution_count": 9,
      "outputs": [
        {
          "output_type": "execute_result",
          "data": {
            "text/plain": [
              "App Name                  2\n",
              "App Id                    0\n",
              "Category                  0\n",
              "Rating                22883\n",
              "Rating Count          22883\n",
              "Installs                107\n",
              "Minimum Installs        107\n",
              "Maximum Installs          0\n",
              "Free                      0\n",
              "Price                     0\n",
              "Currency                135\n",
              "Size                    196\n",
              "Minimum Android        6530\n",
              "Developer Id             33\n",
              "Developer Website    760835\n",
              "Developer Email          31\n",
              "Released              71053\n",
              "Last Updated              0\n",
              "Content Rating            0\n",
              "Privacy Policy       420953\n",
              "Ad Supported              0\n",
              "In App Purchases          0\n",
              "Editors Choice            0\n",
              "dtype: int64"
            ]
          },
          "metadata": {},
          "execution_count": 9
        }
      ]
    },
    {
      "cell_type": "code",
      "source": [
        "df = df.dropna()"
      ],
      "metadata": {
        "id": "-mEVtC5pKibo"
      },
      "execution_count": 10,
      "outputs": []
    },
    {
      "cell_type": "code",
      "source": [
        "df"
      ],
      "metadata": {
        "colab": {
          "base_uri": "https://localhost:8080/",
          "height": 800
        },
        "id": "36_l5bWrKifE",
        "outputId": "5a016cd2-df5f-442d-8e84-a69090643c76"
      },
      "execution_count": 11,
      "outputs": [
        {
          "output_type": "execute_result",
          "data": {
            "text/plain": [
              "                                 App Name  \\\n",
              "0                                 Gakondo   \n",
              "1                     Ampere Battery Info   \n",
              "4                                 GROW.me   \n",
              "5                                  IMOCCI   \n",
              "9        Neon 3d Iron Tech Keyboard Theme   \n",
              "...                                   ...   \n",
              "2312933    Caustic Editor for VolcaSample   \n",
              "2312934   Vietnamese - English Translator   \n",
              "2312938       Lero TOEFL Recorder + Timer   \n",
              "2312940                        ORU Online   \n",
              "2312942                       Devi Suktam   \n",
              "\n",
              "                                          App Id         Category  Rating  \\\n",
              "0                            com.ishakwe.gakondo        Adventure     0.0   \n",
              "1                     com.webserveis.batteryinfo            Tools     4.4   \n",
              "4                           com.horodyski.grower            Tools     0.0   \n",
              "5                                     com.imocci           Social     0.0   \n",
              "9          com.ikeyboard.theme.neon_3d.iron.tech  Personalization     4.7   \n",
              "...                                          ...              ...     ...   \n",
              "2312933         com.singlecellsoftware.kvsampler    Music & Audio     4.0   \n",
              "2312934  com.eliminatesapps.vietnamesetranslator        Education     0.0   \n",
              "2312938                           com.toefltimer        Education     3.4   \n",
              "2312940                 com.threedream.oruonline        Education     0.0   \n",
              "2312942                        ishan.devi.suktam    Music & Audio     3.5   \n",
              "\n",
              "         Rating Count  Installs  Minimum Installs  Maximum Installs  Free  \\\n",
              "0                 0.0       10+              10.0                15  True   \n",
              "1                64.0    5,000+            5000.0              7662  True   \n",
              "4                 0.0      100+             100.0               478  True   \n",
              "5                 0.0       50+              50.0                89  True   \n",
              "9               820.0   50,000+           50000.0             62433  True   \n",
              "...               ...       ...               ...               ...   ...   \n",
              "2312933         344.0  500,000+          500000.0            814548  True   \n",
              "2312934           0.0        5+               5.0                 6  True   \n",
              "2312938          17.0    1,000+            1000.0              1980  True   \n",
              "2312940           0.0      100+             100.0               430  True   \n",
              "2312942           8.0    1,000+            1000.0              2635  True   \n",
              "\n",
              "         Price  ...                         Developer Id  \\\n",
              "0          0.0  ...    Jean Confident Irénée NIYIZIBYOSE   \n",
              "1          0.0  ...                           Webserveis   \n",
              "4          0.0  ...                Rafal Milek-Horodyski   \n",
              "5          0.0  ...                          Imocci GmbH   \n",
              "9          0.0  ...  Free 2021 Themes for Emoji keyboard   \n",
              "...        ...  ...                                  ...   \n",
              "2312933    0.0  ...                 Single Cell Software   \n",
              "2312934    0.0  ...                      Eliminates Apps   \n",
              "2312938    0.0  ...                   Julio Augusto Vera   \n",
              "2312940    0.0  ...                  3Dream Studios, LLC   \n",
              "2312942    0.0  ...                               Bhakti   \n",
              "\n",
              "                           Developer Website            Developer Email  \\\n",
              "0                https://beniyizibyose.tk/#/     jean21101999@gmail.com   \n",
              "1            https://webserveis.netlify.app/       webserveis@gmail.com   \n",
              "4                http://www.horodyski.com.pl  rmilekhorodyski@gmail.com   \n",
              "5                      http://www.imocci.com            info@imocci.com   \n",
              "9        https://trendyteme888-31139.web.app   trendyteme.888@gmail.com   \n",
              "...                                      ...                        ...   \n",
              "2312933    http://www.singlecellsoftware.com       causticapp@gmail.com   \n",
              "2312934    https://af24d8239.app-ads-txt.com   eliminatesapps@gmail.com   \n",
              "2312938       https://lerodoe.wordpress.com/         lero.doe@gmail.com   \n",
              "2312940                  http://www.oru.edu/  3DreamDeveloper@gmail.com   \n",
              "2312942    https://a70f78905.app-ads-txt.com        ruchisono@gmail.com   \n",
              "\n",
              "             Released  Last Updated Content Rating  \\\n",
              "0        Feb 26, 2020  Feb 26, 2020       Everyone   \n",
              "1        May 21, 2020  May 06, 2021       Everyone   \n",
              "4        Feb 21, 2020  Nov 12, 2018       Everyone   \n",
              "5        Dec 24, 2018  Dec 20, 2019           Teen   \n",
              "9        Sep 22, 2019  Oct 07, 2020       Everyone   \n",
              "...               ...           ...            ...   \n",
              "2312933  Dec 11, 2014  Dec 11, 2014       Everyone   \n",
              "2312934  Jun 15, 2020  Aug 31, 2020       Everyone   \n",
              "2312938  May 22, 2018  Dec 14, 2018       Everyone   \n",
              "2312940  Jan 17, 2018  Feb 02, 2018       Everyone   \n",
              "2312942   Aug 1, 2016  May 05, 2021       Everyone   \n",
              "\n",
              "                                            Privacy Policy Ad Supported  \\\n",
              "0                       https://beniyizibyose.tk/projects/        False   \n",
              "1        https://dev4phones.wordpress.com/licencia-de-uso/         True   \n",
              "4                              http://www.horodyski.com.pl        False   \n",
              "5        https://www.imocci.com/wp-content/uploads/2018...        False   \n",
              "9                              http://bit.ly/EmojiThemePro         True   \n",
              "...                                                    ...          ...   \n",
              "2312933      http://www.singlecellsoftware.com/PRIVACY.txt        False   \n",
              "2312934           https://sites.google.com/view/redli/home         True   \n",
              "2312938  https://lerodoe.wordpress.com/app-privacy-poli...         True   \n",
              "2312940    http://www.oru.edu/about-oru/privacy-policy.php        False   \n",
              "2312942  https://docs.google.com/document/d/1x-9reZuLRX...         True   \n",
              "\n",
              "        In App Purchases Editors Choice  \n",
              "0                  False          False  \n",
              "1                  False          False  \n",
              "4                  False          False  \n",
              "5                   True          False  \n",
              "9                  False          False  \n",
              "...                  ...            ...  \n",
              "2312933            False          False  \n",
              "2312934            False          False  \n",
              "2312938            False          False  \n",
              "2312940            False          False  \n",
              "2312942            False          False  \n",
              "\n",
              "[1287191 rows x 23 columns]"
            ],
            "text/html": [
              "\n",
              "  <div id=\"df-8567ea3d-caa5-48f1-aba7-6e7c13737123\">\n",
              "    <div class=\"colab-df-container\">\n",
              "      <div>\n",
              "<style scoped>\n",
              "    .dataframe tbody tr th:only-of-type {\n",
              "        vertical-align: middle;\n",
              "    }\n",
              "\n",
              "    .dataframe tbody tr th {\n",
              "        vertical-align: top;\n",
              "    }\n",
              "\n",
              "    .dataframe thead th {\n",
              "        text-align: right;\n",
              "    }\n",
              "</style>\n",
              "<table border=\"1\" class=\"dataframe\">\n",
              "  <thead>\n",
              "    <tr style=\"text-align: right;\">\n",
              "      <th></th>\n",
              "      <th>App Name</th>\n",
              "      <th>App Id</th>\n",
              "      <th>Category</th>\n",
              "      <th>Rating</th>\n",
              "      <th>Rating Count</th>\n",
              "      <th>Installs</th>\n",
              "      <th>Minimum Installs</th>\n",
              "      <th>Maximum Installs</th>\n",
              "      <th>Free</th>\n",
              "      <th>Price</th>\n",
              "      <th>...</th>\n",
              "      <th>Developer Id</th>\n",
              "      <th>Developer Website</th>\n",
              "      <th>Developer Email</th>\n",
              "      <th>Released</th>\n",
              "      <th>Last Updated</th>\n",
              "      <th>Content Rating</th>\n",
              "      <th>Privacy Policy</th>\n",
              "      <th>Ad Supported</th>\n",
              "      <th>In App Purchases</th>\n",
              "      <th>Editors Choice</th>\n",
              "    </tr>\n",
              "  </thead>\n",
              "  <tbody>\n",
              "    <tr>\n",
              "      <th>0</th>\n",
              "      <td>Gakondo</td>\n",
              "      <td>com.ishakwe.gakondo</td>\n",
              "      <td>Adventure</td>\n",
              "      <td>0.0</td>\n",
              "      <td>0.0</td>\n",
              "      <td>10+</td>\n",
              "      <td>10.0</td>\n",
              "      <td>15</td>\n",
              "      <td>True</td>\n",
              "      <td>0.0</td>\n",
              "      <td>...</td>\n",
              "      <td>Jean Confident Irénée NIYIZIBYOSE</td>\n",
              "      <td>https://beniyizibyose.tk/#/</td>\n",
              "      <td>jean21101999@gmail.com</td>\n",
              "      <td>Feb 26, 2020</td>\n",
              "      <td>Feb 26, 2020</td>\n",
              "      <td>Everyone</td>\n",
              "      <td>https://beniyizibyose.tk/projects/</td>\n",
              "      <td>False</td>\n",
              "      <td>False</td>\n",
              "      <td>False</td>\n",
              "    </tr>\n",
              "    <tr>\n",
              "      <th>1</th>\n",
              "      <td>Ampere Battery Info</td>\n",
              "      <td>com.webserveis.batteryinfo</td>\n",
              "      <td>Tools</td>\n",
              "      <td>4.4</td>\n",
              "      <td>64.0</td>\n",
              "      <td>5,000+</td>\n",
              "      <td>5000.0</td>\n",
              "      <td>7662</td>\n",
              "      <td>True</td>\n",
              "      <td>0.0</td>\n",
              "      <td>...</td>\n",
              "      <td>Webserveis</td>\n",
              "      <td>https://webserveis.netlify.app/</td>\n",
              "      <td>webserveis@gmail.com</td>\n",
              "      <td>May 21, 2020</td>\n",
              "      <td>May 06, 2021</td>\n",
              "      <td>Everyone</td>\n",
              "      <td>https://dev4phones.wordpress.com/licencia-de-uso/</td>\n",
              "      <td>True</td>\n",
              "      <td>False</td>\n",
              "      <td>False</td>\n",
              "    </tr>\n",
              "    <tr>\n",
              "      <th>4</th>\n",
              "      <td>GROW.me</td>\n",
              "      <td>com.horodyski.grower</td>\n",
              "      <td>Tools</td>\n",
              "      <td>0.0</td>\n",
              "      <td>0.0</td>\n",
              "      <td>100+</td>\n",
              "      <td>100.0</td>\n",
              "      <td>478</td>\n",
              "      <td>True</td>\n",
              "      <td>0.0</td>\n",
              "      <td>...</td>\n",
              "      <td>Rafal Milek-Horodyski</td>\n",
              "      <td>http://www.horodyski.com.pl</td>\n",
              "      <td>rmilekhorodyski@gmail.com</td>\n",
              "      <td>Feb 21, 2020</td>\n",
              "      <td>Nov 12, 2018</td>\n",
              "      <td>Everyone</td>\n",
              "      <td>http://www.horodyski.com.pl</td>\n",
              "      <td>False</td>\n",
              "      <td>False</td>\n",
              "      <td>False</td>\n",
              "    </tr>\n",
              "    <tr>\n",
              "      <th>5</th>\n",
              "      <td>IMOCCI</td>\n",
              "      <td>com.imocci</td>\n",
              "      <td>Social</td>\n",
              "      <td>0.0</td>\n",
              "      <td>0.0</td>\n",
              "      <td>50+</td>\n",
              "      <td>50.0</td>\n",
              "      <td>89</td>\n",
              "      <td>True</td>\n",
              "      <td>0.0</td>\n",
              "      <td>...</td>\n",
              "      <td>Imocci GmbH</td>\n",
              "      <td>http://www.imocci.com</td>\n",
              "      <td>info@imocci.com</td>\n",
              "      <td>Dec 24, 2018</td>\n",
              "      <td>Dec 20, 2019</td>\n",
              "      <td>Teen</td>\n",
              "      <td>https://www.imocci.com/wp-content/uploads/2018...</td>\n",
              "      <td>False</td>\n",
              "      <td>True</td>\n",
              "      <td>False</td>\n",
              "    </tr>\n",
              "    <tr>\n",
              "      <th>9</th>\n",
              "      <td>Neon 3d Iron Tech Keyboard Theme</td>\n",
              "      <td>com.ikeyboard.theme.neon_3d.iron.tech</td>\n",
              "      <td>Personalization</td>\n",
              "      <td>4.7</td>\n",
              "      <td>820.0</td>\n",
              "      <td>50,000+</td>\n",
              "      <td>50000.0</td>\n",
              "      <td>62433</td>\n",
              "      <td>True</td>\n",
              "      <td>0.0</td>\n",
              "      <td>...</td>\n",
              "      <td>Free 2021 Themes for Emoji keyboard</td>\n",
              "      <td>https://trendyteme888-31139.web.app</td>\n",
              "      <td>trendyteme.888@gmail.com</td>\n",
              "      <td>Sep 22, 2019</td>\n",
              "      <td>Oct 07, 2020</td>\n",
              "      <td>Everyone</td>\n",
              "      <td>http://bit.ly/EmojiThemePro</td>\n",
              "      <td>True</td>\n",
              "      <td>False</td>\n",
              "      <td>False</td>\n",
              "    </tr>\n",
              "    <tr>\n",
              "      <th>...</th>\n",
              "      <td>...</td>\n",
              "      <td>...</td>\n",
              "      <td>...</td>\n",
              "      <td>...</td>\n",
              "      <td>...</td>\n",
              "      <td>...</td>\n",
              "      <td>...</td>\n",
              "      <td>...</td>\n",
              "      <td>...</td>\n",
              "      <td>...</td>\n",
              "      <td>...</td>\n",
              "      <td>...</td>\n",
              "      <td>...</td>\n",
              "      <td>...</td>\n",
              "      <td>...</td>\n",
              "      <td>...</td>\n",
              "      <td>...</td>\n",
              "      <td>...</td>\n",
              "      <td>...</td>\n",
              "      <td>...</td>\n",
              "      <td>...</td>\n",
              "    </tr>\n",
              "    <tr>\n",
              "      <th>2312933</th>\n",
              "      <td>Caustic Editor for VolcaSample</td>\n",
              "      <td>com.singlecellsoftware.kvsampler</td>\n",
              "      <td>Music &amp; Audio</td>\n",
              "      <td>4.0</td>\n",
              "      <td>344.0</td>\n",
              "      <td>500,000+</td>\n",
              "      <td>500000.0</td>\n",
              "      <td>814548</td>\n",
              "      <td>True</td>\n",
              "      <td>0.0</td>\n",
              "      <td>...</td>\n",
              "      <td>Single Cell Software</td>\n",
              "      <td>http://www.singlecellsoftware.com</td>\n",
              "      <td>causticapp@gmail.com</td>\n",
              "      <td>Dec 11, 2014</td>\n",
              "      <td>Dec 11, 2014</td>\n",
              "      <td>Everyone</td>\n",
              "      <td>http://www.singlecellsoftware.com/PRIVACY.txt</td>\n",
              "      <td>False</td>\n",
              "      <td>False</td>\n",
              "      <td>False</td>\n",
              "    </tr>\n",
              "    <tr>\n",
              "      <th>2312934</th>\n",
              "      <td>Vietnamese - English Translator</td>\n",
              "      <td>com.eliminatesapps.vietnamesetranslator</td>\n",
              "      <td>Education</td>\n",
              "      <td>0.0</td>\n",
              "      <td>0.0</td>\n",
              "      <td>5+</td>\n",
              "      <td>5.0</td>\n",
              "      <td>6</td>\n",
              "      <td>True</td>\n",
              "      <td>0.0</td>\n",
              "      <td>...</td>\n",
              "      <td>Eliminates Apps</td>\n",
              "      <td>https://af24d8239.app-ads-txt.com</td>\n",
              "      <td>eliminatesapps@gmail.com</td>\n",
              "      <td>Jun 15, 2020</td>\n",
              "      <td>Aug 31, 2020</td>\n",
              "      <td>Everyone</td>\n",
              "      <td>https://sites.google.com/view/redli/home</td>\n",
              "      <td>True</td>\n",
              "      <td>False</td>\n",
              "      <td>False</td>\n",
              "    </tr>\n",
              "    <tr>\n",
              "      <th>2312938</th>\n",
              "      <td>Lero TOEFL Recorder + Timer</td>\n",
              "      <td>com.toefltimer</td>\n",
              "      <td>Education</td>\n",
              "      <td>3.4</td>\n",
              "      <td>17.0</td>\n",
              "      <td>1,000+</td>\n",
              "      <td>1000.0</td>\n",
              "      <td>1980</td>\n",
              "      <td>True</td>\n",
              "      <td>0.0</td>\n",
              "      <td>...</td>\n",
              "      <td>Julio Augusto Vera</td>\n",
              "      <td>https://lerodoe.wordpress.com/</td>\n",
              "      <td>lero.doe@gmail.com</td>\n",
              "      <td>May 22, 2018</td>\n",
              "      <td>Dec 14, 2018</td>\n",
              "      <td>Everyone</td>\n",
              "      <td>https://lerodoe.wordpress.com/app-privacy-poli...</td>\n",
              "      <td>True</td>\n",
              "      <td>False</td>\n",
              "      <td>False</td>\n",
              "    </tr>\n",
              "    <tr>\n",
              "      <th>2312940</th>\n",
              "      <td>ORU Online</td>\n",
              "      <td>com.threedream.oruonline</td>\n",
              "      <td>Education</td>\n",
              "      <td>0.0</td>\n",
              "      <td>0.0</td>\n",
              "      <td>100+</td>\n",
              "      <td>100.0</td>\n",
              "      <td>430</td>\n",
              "      <td>True</td>\n",
              "      <td>0.0</td>\n",
              "      <td>...</td>\n",
              "      <td>3Dream Studios, LLC</td>\n",
              "      <td>http://www.oru.edu/</td>\n",
              "      <td>3DreamDeveloper@gmail.com</td>\n",
              "      <td>Jan 17, 2018</td>\n",
              "      <td>Feb 02, 2018</td>\n",
              "      <td>Everyone</td>\n",
              "      <td>http://www.oru.edu/about-oru/privacy-policy.php</td>\n",
              "      <td>False</td>\n",
              "      <td>False</td>\n",
              "      <td>False</td>\n",
              "    </tr>\n",
              "    <tr>\n",
              "      <th>2312942</th>\n",
              "      <td>Devi Suktam</td>\n",
              "      <td>ishan.devi.suktam</td>\n",
              "      <td>Music &amp; Audio</td>\n",
              "      <td>3.5</td>\n",
              "      <td>8.0</td>\n",
              "      <td>1,000+</td>\n",
              "      <td>1000.0</td>\n",
              "      <td>2635</td>\n",
              "      <td>True</td>\n",
              "      <td>0.0</td>\n",
              "      <td>...</td>\n",
              "      <td>Bhakti</td>\n",
              "      <td>https://a70f78905.app-ads-txt.com</td>\n",
              "      <td>ruchisono@gmail.com</td>\n",
              "      <td>Aug 1, 2016</td>\n",
              "      <td>May 05, 2021</td>\n",
              "      <td>Everyone</td>\n",
              "      <td>https://docs.google.com/document/d/1x-9reZuLRX...</td>\n",
              "      <td>True</td>\n",
              "      <td>False</td>\n",
              "      <td>False</td>\n",
              "    </tr>\n",
              "  </tbody>\n",
              "</table>\n",
              "<p>1287191 rows × 23 columns</p>\n",
              "</div>\n",
              "      <button class=\"colab-df-convert\" onclick=\"convertToInteractive('df-8567ea3d-caa5-48f1-aba7-6e7c13737123')\"\n",
              "              title=\"Convert this dataframe to an interactive table.\"\n",
              "              style=\"display:none;\">\n",
              "        \n",
              "  <svg xmlns=\"http://www.w3.org/2000/svg\" height=\"24px\"viewBox=\"0 0 24 24\"\n",
              "       width=\"24px\">\n",
              "    <path d=\"M0 0h24v24H0V0z\" fill=\"none\"/>\n",
              "    <path d=\"M18.56 5.44l.94 2.06.94-2.06 2.06-.94-2.06-.94-.94-2.06-.94 2.06-2.06.94zm-11 1L8.5 8.5l.94-2.06 2.06-.94-2.06-.94L8.5 2.5l-.94 2.06-2.06.94zm10 10l.94 2.06.94-2.06 2.06-.94-2.06-.94-.94-2.06-.94 2.06-2.06.94z\"/><path d=\"M17.41 7.96l-1.37-1.37c-.4-.4-.92-.59-1.43-.59-.52 0-1.04.2-1.43.59L10.3 9.45l-7.72 7.72c-.78.78-.78 2.05 0 2.83L4 21.41c.39.39.9.59 1.41.59.51 0 1.02-.2 1.41-.59l7.78-7.78 2.81-2.81c.8-.78.8-2.07 0-2.86zM5.41 20L4 18.59l7.72-7.72 1.47 1.35L5.41 20z\"/>\n",
              "  </svg>\n",
              "      </button>\n",
              "      \n",
              "  <style>\n",
              "    .colab-df-container {\n",
              "      display:flex;\n",
              "      flex-wrap:wrap;\n",
              "      gap: 12px;\n",
              "    }\n",
              "\n",
              "    .colab-df-convert {\n",
              "      background-color: #E8F0FE;\n",
              "      border: none;\n",
              "      border-radius: 50%;\n",
              "      cursor: pointer;\n",
              "      display: none;\n",
              "      fill: #1967D2;\n",
              "      height: 32px;\n",
              "      padding: 0 0 0 0;\n",
              "      width: 32px;\n",
              "    }\n",
              "\n",
              "    .colab-df-convert:hover {\n",
              "      background-color: #E2EBFA;\n",
              "      box-shadow: 0px 1px 2px rgba(60, 64, 67, 0.3), 0px 1px 3px 1px rgba(60, 64, 67, 0.15);\n",
              "      fill: #174EA6;\n",
              "    }\n",
              "\n",
              "    [theme=dark] .colab-df-convert {\n",
              "      background-color: #3B4455;\n",
              "      fill: #D2E3FC;\n",
              "    }\n",
              "\n",
              "    [theme=dark] .colab-df-convert:hover {\n",
              "      background-color: #434B5C;\n",
              "      box-shadow: 0px 1px 3px 1px rgba(0, 0, 0, 0.15);\n",
              "      filter: drop-shadow(0px 1px 2px rgba(0, 0, 0, 0.3));\n",
              "      fill: #FFFFFF;\n",
              "    }\n",
              "  </style>\n",
              "\n",
              "      <script>\n",
              "        const buttonEl =\n",
              "          document.querySelector('#df-8567ea3d-caa5-48f1-aba7-6e7c13737123 button.colab-df-convert');\n",
              "        buttonEl.style.display =\n",
              "          google.colab.kernel.accessAllowed ? 'block' : 'none';\n",
              "\n",
              "        async function convertToInteractive(key) {\n",
              "          const element = document.querySelector('#df-8567ea3d-caa5-48f1-aba7-6e7c13737123');\n",
              "          const dataTable =\n",
              "            await google.colab.kernel.invokeFunction('convertToInteractive',\n",
              "                                                     [key], {});\n",
              "          if (!dataTable) return;\n",
              "\n",
              "          const docLinkHtml = 'Like what you see? Visit the ' +\n",
              "            '<a target=\"_blank\" href=https://colab.research.google.com/notebooks/data_table.ipynb>data table notebook</a>'\n",
              "            + ' to learn more about interactive tables.';\n",
              "          element.innerHTML = '';\n",
              "          dataTable['output_type'] = 'display_data';\n",
              "          await google.colab.output.renderOutput(dataTable, element);\n",
              "          const docLink = document.createElement('div');\n",
              "          docLink.innerHTML = docLinkHtml;\n",
              "          element.appendChild(docLink);\n",
              "        }\n",
              "      </script>\n",
              "    </div>\n",
              "  </div>\n",
              "  "
            ]
          },
          "metadata": {},
          "execution_count": 11
        }
      ]
    },
    {
      "cell_type": "markdown",
      "metadata": {
        "id": "_0m5LkbVVJJ6"
      },
      "source": [
        "## Exploratory Analysis and Visualization\n",
        "\n",
        "**TODO** - write some explanation here.\n",
        "\n"
      ]
    },
    {
      "cell_type": "markdown",
      "metadata": {
        "id": "6knKGHajVJJ6"
      },
      "source": [
        "> Instructions (delete this cell)\n",
        "> \n",
        "> - Compute the mean, sum, range and other interesting statistics for numeric columns\n",
        "> - Explore distributions of numeric columns using histograms etc.\n",
        "> - Explore relationship between columns using scatter plots, bar charts etc.\n",
        "> - Make a note of interesting insights from the exploratory analysis"
      ]
    },
    {
      "cell_type": "markdown",
      "metadata": {
        "id": "Fv4NPHasVJJ7"
      },
      "source": [
        "**TODO** - Explore one or more columns by plotting a graph below, and add some explanation about it"
      ]
    },
    {
      "cell_type": "markdown",
      "metadata": {
        "id": "rN1bUu8RVJJ7"
      },
      "source": [
        "**TODO** - Explore one or more columns by plotting a graph below, and add some explanation about it"
      ]
    },
    {
      "cell_type": "code",
      "execution_count": 12,
      "metadata": {
        "id": "kMrm6CiAVJJ8"
      },
      "outputs": [],
      "source": [
        "import seaborn as sns\n",
        "import matplotlib\n",
        "import matplotlib.pyplot as plt\n",
        "import numpy as np\n",
        "%matplotlib inline\n",
        "\n",
        "sns.set_style('darkgrid')\n",
        "matplotlib.rcParams['font.size'] = 14\n",
        "matplotlib.rcParams['figure.figsize'] = (9, 5)\n",
        "matplotlib.rcParams['figure.facecolor'] = '#00000000'"
      ]
    },
    {
      "cell_type": "code",
      "execution_count": 13,
      "metadata": {
        "id": "RSt7KlcfVJJ8",
        "colab": {
          "base_uri": "https://localhost:8080/",
          "height": 300
        },
        "outputId": "c1e2346f-a97a-400f-fc7a-7d351cb6c089"
      },
      "outputs": [
        {
          "output_type": "execute_result",
          "data": {
            "text/plain": [
              "             Rating  Rating Count  Minimum Installs  Maximum Installs  \\\n",
              "count  1.287191e+06  1.287191e+06      1.287191e+06      1.287191e+06   \n",
              "mean   2.315500e+00  4.470702e+03      2.691305e+05      4.676076e+05   \n",
              "std    2.090373e+00  2.594790e+05      1.834388e+07      2.780474e+07   \n",
              "min    0.000000e+00  0.000000e+00      0.000000e+00      0.000000e+00   \n",
              "25%    0.000000e+00  0.000000e+00      1.000000e+02      1.150000e+02   \n",
              "50%    3.300000e+00  7.000000e+00      5.000000e+02      9.490000e+02   \n",
              "75%    4.300000e+00  6.100000e+01      1.000000e+04      1.074300e+04   \n",
              "max    5.000000e+00  1.385576e+08      1.000000e+10      1.205763e+10   \n",
              "\n",
              "              Price  \n",
              "count  1.287191e+06  \n",
              "mean   1.099716e-01  \n",
              "std    2.438043e+00  \n",
              "min    0.000000e+00  \n",
              "25%    0.000000e+00  \n",
              "50%    0.000000e+00  \n",
              "75%    0.000000e+00  \n",
              "max    4.000000e+02  "
            ],
            "text/html": [
              "\n",
              "  <div id=\"df-d7b2d1df-a897-49ff-9707-be789085b75c\">\n",
              "    <div class=\"colab-df-container\">\n",
              "      <div>\n",
              "<style scoped>\n",
              "    .dataframe tbody tr th:only-of-type {\n",
              "        vertical-align: middle;\n",
              "    }\n",
              "\n",
              "    .dataframe tbody tr th {\n",
              "        vertical-align: top;\n",
              "    }\n",
              "\n",
              "    .dataframe thead th {\n",
              "        text-align: right;\n",
              "    }\n",
              "</style>\n",
              "<table border=\"1\" class=\"dataframe\">\n",
              "  <thead>\n",
              "    <tr style=\"text-align: right;\">\n",
              "      <th></th>\n",
              "      <th>Rating</th>\n",
              "      <th>Rating Count</th>\n",
              "      <th>Minimum Installs</th>\n",
              "      <th>Maximum Installs</th>\n",
              "      <th>Price</th>\n",
              "    </tr>\n",
              "  </thead>\n",
              "  <tbody>\n",
              "    <tr>\n",
              "      <th>count</th>\n",
              "      <td>1.287191e+06</td>\n",
              "      <td>1.287191e+06</td>\n",
              "      <td>1.287191e+06</td>\n",
              "      <td>1.287191e+06</td>\n",
              "      <td>1.287191e+06</td>\n",
              "    </tr>\n",
              "    <tr>\n",
              "      <th>mean</th>\n",
              "      <td>2.315500e+00</td>\n",
              "      <td>4.470702e+03</td>\n",
              "      <td>2.691305e+05</td>\n",
              "      <td>4.676076e+05</td>\n",
              "      <td>1.099716e-01</td>\n",
              "    </tr>\n",
              "    <tr>\n",
              "      <th>std</th>\n",
              "      <td>2.090373e+00</td>\n",
              "      <td>2.594790e+05</td>\n",
              "      <td>1.834388e+07</td>\n",
              "      <td>2.780474e+07</td>\n",
              "      <td>2.438043e+00</td>\n",
              "    </tr>\n",
              "    <tr>\n",
              "      <th>min</th>\n",
              "      <td>0.000000e+00</td>\n",
              "      <td>0.000000e+00</td>\n",
              "      <td>0.000000e+00</td>\n",
              "      <td>0.000000e+00</td>\n",
              "      <td>0.000000e+00</td>\n",
              "    </tr>\n",
              "    <tr>\n",
              "      <th>25%</th>\n",
              "      <td>0.000000e+00</td>\n",
              "      <td>0.000000e+00</td>\n",
              "      <td>1.000000e+02</td>\n",
              "      <td>1.150000e+02</td>\n",
              "      <td>0.000000e+00</td>\n",
              "    </tr>\n",
              "    <tr>\n",
              "      <th>50%</th>\n",
              "      <td>3.300000e+00</td>\n",
              "      <td>7.000000e+00</td>\n",
              "      <td>5.000000e+02</td>\n",
              "      <td>9.490000e+02</td>\n",
              "      <td>0.000000e+00</td>\n",
              "    </tr>\n",
              "    <tr>\n",
              "      <th>75%</th>\n",
              "      <td>4.300000e+00</td>\n",
              "      <td>6.100000e+01</td>\n",
              "      <td>1.000000e+04</td>\n",
              "      <td>1.074300e+04</td>\n",
              "      <td>0.000000e+00</td>\n",
              "    </tr>\n",
              "    <tr>\n",
              "      <th>max</th>\n",
              "      <td>5.000000e+00</td>\n",
              "      <td>1.385576e+08</td>\n",
              "      <td>1.000000e+10</td>\n",
              "      <td>1.205763e+10</td>\n",
              "      <td>4.000000e+02</td>\n",
              "    </tr>\n",
              "  </tbody>\n",
              "</table>\n",
              "</div>\n",
              "      <button class=\"colab-df-convert\" onclick=\"convertToInteractive('df-d7b2d1df-a897-49ff-9707-be789085b75c')\"\n",
              "              title=\"Convert this dataframe to an interactive table.\"\n",
              "              style=\"display:none;\">\n",
              "        \n",
              "  <svg xmlns=\"http://www.w3.org/2000/svg\" height=\"24px\"viewBox=\"0 0 24 24\"\n",
              "       width=\"24px\">\n",
              "    <path d=\"M0 0h24v24H0V0z\" fill=\"none\"/>\n",
              "    <path d=\"M18.56 5.44l.94 2.06.94-2.06 2.06-.94-2.06-.94-.94-2.06-.94 2.06-2.06.94zm-11 1L8.5 8.5l.94-2.06 2.06-.94-2.06-.94L8.5 2.5l-.94 2.06-2.06.94zm10 10l.94 2.06.94-2.06 2.06-.94-2.06-.94-.94-2.06-.94 2.06-2.06.94z\"/><path d=\"M17.41 7.96l-1.37-1.37c-.4-.4-.92-.59-1.43-.59-.52 0-1.04.2-1.43.59L10.3 9.45l-7.72 7.72c-.78.78-.78 2.05 0 2.83L4 21.41c.39.39.9.59 1.41.59.51 0 1.02-.2 1.41-.59l7.78-7.78 2.81-2.81c.8-.78.8-2.07 0-2.86zM5.41 20L4 18.59l7.72-7.72 1.47 1.35L5.41 20z\"/>\n",
              "  </svg>\n",
              "      </button>\n",
              "      \n",
              "  <style>\n",
              "    .colab-df-container {\n",
              "      display:flex;\n",
              "      flex-wrap:wrap;\n",
              "      gap: 12px;\n",
              "    }\n",
              "\n",
              "    .colab-df-convert {\n",
              "      background-color: #E8F0FE;\n",
              "      border: none;\n",
              "      border-radius: 50%;\n",
              "      cursor: pointer;\n",
              "      display: none;\n",
              "      fill: #1967D2;\n",
              "      height: 32px;\n",
              "      padding: 0 0 0 0;\n",
              "      width: 32px;\n",
              "    }\n",
              "\n",
              "    .colab-df-convert:hover {\n",
              "      background-color: #E2EBFA;\n",
              "      box-shadow: 0px 1px 2px rgba(60, 64, 67, 0.3), 0px 1px 3px 1px rgba(60, 64, 67, 0.15);\n",
              "      fill: #174EA6;\n",
              "    }\n",
              "\n",
              "    [theme=dark] .colab-df-convert {\n",
              "      background-color: #3B4455;\n",
              "      fill: #D2E3FC;\n",
              "    }\n",
              "\n",
              "    [theme=dark] .colab-df-convert:hover {\n",
              "      background-color: #434B5C;\n",
              "      box-shadow: 0px 1px 3px 1px rgba(0, 0, 0, 0.15);\n",
              "      filter: drop-shadow(0px 1px 2px rgba(0, 0, 0, 0.3));\n",
              "      fill: #FFFFFF;\n",
              "    }\n",
              "  </style>\n",
              "\n",
              "      <script>\n",
              "        const buttonEl =\n",
              "          document.querySelector('#df-d7b2d1df-a897-49ff-9707-be789085b75c button.colab-df-convert');\n",
              "        buttonEl.style.display =\n",
              "          google.colab.kernel.accessAllowed ? 'block' : 'none';\n",
              "\n",
              "        async function convertToInteractive(key) {\n",
              "          const element = document.querySelector('#df-d7b2d1df-a897-49ff-9707-be789085b75c');\n",
              "          const dataTable =\n",
              "            await google.colab.kernel.invokeFunction('convertToInteractive',\n",
              "                                                     [key], {});\n",
              "          if (!dataTable) return;\n",
              "\n",
              "          const docLinkHtml = 'Like what you see? Visit the ' +\n",
              "            '<a target=\"_blank\" href=https://colab.research.google.com/notebooks/data_table.ipynb>data table notebook</a>'\n",
              "            + ' to learn more about interactive tables.';\n",
              "          element.innerHTML = '';\n",
              "          dataTable['output_type'] = 'display_data';\n",
              "          await google.colab.output.renderOutput(dataTable, element);\n",
              "          const docLink = document.createElement('div');\n",
              "          docLink.innerHTML = docLinkHtml;\n",
              "          element.appendChild(docLink);\n",
              "        }\n",
              "      </script>\n",
              "    </div>\n",
              "  </div>\n",
              "  "
            ]
          },
          "metadata": {},
          "execution_count": 13
        }
      ],
      "source": [
        "df.describe()"
      ]
    },
    {
      "cell_type": "code",
      "source": [
        "sns.scatterplot(x=df['Rating'], y=df['Installs'])\n",
        "sns.rugplot(x=df['Rating'], y=df['Installs'])"
      ],
      "metadata": {
        "colab": {
          "base_uri": "https://localhost:8080/",
          "height": 359
        },
        "id": "fUkv7dtoN-R2",
        "outputId": "9ec48b0b-0231-407c-f671-cd2bf8f2dbc5"
      },
      "execution_count": 14,
      "outputs": [
        {
          "output_type": "execute_result",
          "data": {
            "text/plain": [
              "<matplotlib.axes._subplots.AxesSubplot at 0x7f8324c02970>"
            ]
          },
          "metadata": {},
          "execution_count": 14
        },
        {
          "output_type": "display_data",
          "data": {
            "text/plain": [
              "<Figure size 648x360 with 1 Axes>"
            ],
            "image/png": "[encoded data removed]"
          },
          "metadata": {
            "needs_background": "light"
          }
        }
      ]
    },
    {
      "cell_type": "code",
      "source": [
        "sns.boxplot(x='Content Rating', y='Rating', data=df)"
      ],
      "metadata": {
        "id": "k1hANN4TN-iL",
        "colab": {
          "base_uri": "https://localhost:8080/",
          "height": 359
        },
        "outputId": "467ce8f4-c108-4a2b-d138-724dda847099"
      },
      "execution_count": 15,
      "outputs": [
        {
          "output_type": "execute_result",
          "data": {
            "text/plain": [
              "<matplotlib.axes._subplots.AxesSubplot at 0x7f82f53a3970>"
            ]
          },
          "metadata": {},
          "execution_count": 15
        },
        {
          "output_type": "display_data",
          "data": {
            "text/plain": [
              "<Figure size 648x360 with 1 Axes>"
            ],
            "image/png": "[encoded data removed]"
          },
          "metadata": {
            "needs_background": "light"
          }
        }
      ]
    },
    {
      "cell_type": "code",
      "source": [
        "colors = sns.color_palette('pastel')[0:5]\n",
        "c = df['Content Rating'].value_counts()\n",
        "\n",
        "# create pie chart\n",
        "plt.pie(c, labels = c.index, colors = colors, autopct='%.0f%%', radius=2)\n",
        "plt.legend(c.index, loc ='lower left')\n",
        "plt.show()"
      ],
      "metadata": {
        "colab": {
          "base_uri": "https://localhost:8080/",
          "height": 468
        },
        "id": "BxbhnNyU7tWS",
        "outputId": "4e4eca98-3530-4313-aa8e-65e08a8d5d91"
      },
      "execution_count": 16,
      "outputs": [
        {
          "output_type": "display_data",
          "data": {
            "text/plain": [
              "<Figure size 648x360 with 1 Axes>"
            ],
            "image/png": "[encoded data removed]"
          },
          "metadata": {}
        }
      ]
    },
    {
      "cell_type": "markdown",
      "metadata": {
        "id": "E0U3IWm8VJJ9"
      },
      "source": [
        "## Asking and Answering Questions\n",
        "\n",
        "TODO - write some explanation here.\n",
        "\n"
      ]
    },
    {
      "cell_type": "markdown",
      "metadata": {
        "id": "SjXvLl4dVJJ9"
      },
      "source": [
        "> Instructions (delete this cell)\n",
        ">\n",
        "> - Ask at least 5 interesting questions about your dataset\n",
        "> - Answer the questions either by computing the results using Numpy/Pandas or by plotting graphs using Matplotlib/Seaborn\n",
        "> - Create new columns, merge multiple dataset and perform grouping/aggregation wherever necessary\n",
        "> - Wherever you're using a library function from Pandas/Numpy/Matplotlib etc. explain briefly what it does\n",
        "\n"
      ]
    },
    {
      "cell_type": "markdown",
      "metadata": {
        "id": "7Lor5rHMVJJ9"
      },
      "source": [
        "#### Q1: What is the total number of application in each content rating?"
      ]
    },
    {
      "cell_type": "code",
      "source": [
        "print (pd.unique(df['Content Rating']))\n",
        "df1 = pd.unique(df['Content Rating'])"
      ],
      "metadata": {
        "id": "90tCCHvFSdct",
        "colab": {
          "base_uri": "https://localhost:8080/"
        },
        "outputId": "32d99c21-240c-4549-ab3a-e1c45e70506f"
      },
      "execution_count": 17,
      "outputs": [
        {
          "output_type": "stream",
          "name": "stdout",
          "text": [
            "['Everyone' 'Teen' 'Everyone 10+' 'Mature 17+' 'Adults only 18+' 'Unrated']\n"
          ]
        }
      ]
    },
    {
      "cell_type": "code",
      "source": [
        "df['Content Rating'].value_counts().plot(kind = 'barh', ylabel = \"Total Number of Apps\", xlabel = \"Contents Rating\", title = \"Total Number of Apps VS Content Rating\", color = plt.cm.Paired(np.arange(len(df1))))\n"
      ],
      "metadata": {
        "id": "nywvtbsFSm7f",
        "colab": {
          "base_uri": "https://localhost:8080/",
          "height": 378
        },
        "outputId": "79bfa8dd-184a-4e8d-884e-89b0e90bdce1"
      },
      "execution_count": 18,
      "outputs": [
        {
          "output_type": "execute_result",
          "data": {
            "text/plain": [
              "<matplotlib.axes._subplots.AxesSubplot at 0x7f82d60c5c70>"
            ]
          },
          "metadata": {},
          "execution_count": 18
        },
        {
          "output_type": "display_data",
          "data": {
            "text/plain": [
              "<Figure size 648x360 with 1 Axes>"
            ],
            "image/png": "[encoded data removed]"
          },
          "metadata": {
            "needs_background": "light"
          }
        }
      ]
    },
    {
      "cell_type": "markdown",
      "metadata": {
        "id": "c_REVnrhVJJ-"
      },
      "source": [
        "#### Q2: TODO - ask a question here and answer it below"
      ]
    },
    {
      "cell_type": "code",
      "source": [
        "print (pd.unique(df['Category']))\n",
        "df2 = pd.unique(df['Category'])"
      ],
      "metadata": {
        "id": "ZR3uz_Y5MzIQ",
        "colab": {
          "base_uri": "https://localhost:8080/"
        },
        "outputId": "d2dda82d-1a83-4917-dcb5-f550a891a62b"
      },
      "execution_count": 19,
      "outputs": [
        {
          "output_type": "stream",
          "name": "stdout",
          "text": [
            "['Adventure' 'Tools' 'Social' 'Personalization' 'Maps & Navigation'\n",
            " 'Travel & Local' 'Food & Drink' 'Puzzle' 'Entertainment' 'Photography'\n",
            " 'Health & Fitness' 'Shopping' 'Books & Reference' 'Beauty' 'Business'\n",
            " 'Educational' 'Lifestyle' 'Music & Audio' 'News & Magazines'\n",
            " 'Auto & Vehicles' 'Productivity' 'Education' 'Art & Design'\n",
            " 'House & Home' 'Racing' 'Sports' 'Events' 'Finance' 'Weather' 'Board'\n",
            " 'Medical' 'Communication' 'Word' 'Action' 'Trivia' 'Simulation'\n",
            " 'Video Players & Editors' 'Music' 'Arcade' 'Libraries & Demo' 'Casual'\n",
            " 'Dating' 'Strategy' 'Card' 'Role Playing' 'Casino' 'Parenting' 'Comics']\n"
          ]
        }
      ]
    },
    {
      "cell_type": "code",
      "source": [
        "df['Category'].value_counts().plot(kind = 'bar', ylabel = \"Total Number of Apps\", xlabel = \"Category\", title = \"Total Number of Apps VS Category\", color = plt.cm.Paired(np.arange(len(df2))))\n"
      ],
      "metadata": {
        "id": "YfXcGNZtMzVo",
        "colab": {
          "base_uri": "https://localhost:8080/",
          "height": 528
        },
        "outputId": "62dd7b65-2535-443a-e902-4a649c6408d7"
      },
      "execution_count": 20,
      "outputs": [
        {
          "output_type": "execute_result",
          "data": {
            "text/plain": [
              "<matplotlib.axes._subplots.AxesSubplot at 0x7f82ccd64130>"
            ]
          },
          "metadata": {},
          "execution_count": 20
        },
        {
          "output_type": "display_data",
          "data": {
            "text/plain": [
              "<Figure size 648x360 with 1 Axes>"
            ],
            "image/png": "[encoded data removed]"
          },
          "metadata": {
            "needs_background": "light"
          }
        }
      ]
    },
    {
      "cell_type": "markdown",
      "metadata": {
        "id": "ya3o0SurVJJ-"
      },
      "source": [
        "#### Q3: TODO - ask a question here and answer it below"
      ]
    },
    {
      "cell_type": "code",
      "source": [
        "df1 = df.pivot_table(index=['Category'], values=['Maximum Installs'], aggfunc='sum')\n",
        "sns.lineplot(data = df1)"
      ],
      "metadata": {
        "colab": {
          "base_uri": "https://localhost:8080/",
          "height": 373
        },
        "id": "DM-3uj29BCSc",
        "outputId": "4d0b5a06-fcfe-437e-ecce-3dfc0ac2b099"
      },
      "execution_count": 21,
      "outputs": [
        {
          "output_type": "execute_result",
          "data": {
            "text/plain": [
              "<matplotlib.axes._subplots.AxesSubplot at 0x7f82f5323b80>"
            ]
          },
          "metadata": {},
          "execution_count": 21
        },
        {
          "output_type": "display_data",
          "data": {
            "text/plain": [
              "<Figure size 648x360 with 1 Axes>"
            ],
            "image/png": "[encoded data removed]"
          },
          "metadata": {
            "needs_background": "light"
          }
        }
      ]
    },
    {
      "cell_type": "markdown",
      "metadata": {
        "id": "p4CcVO1TVJJ-"
      },
      "source": [
        "#### Q4: TODO - ask a question here and answer it below"
      ]
    },
    {
      "cell_type": "code",
      "source": [],
      "metadata": {
        "id": "P-EO2nlwBBhz"
      },
      "execution_count": 21,
      "outputs": []
    },
    {
      "cell_type": "markdown",
      "metadata": {
        "id": "uFuZBqX1VJJ_"
      },
      "source": [
        "#### Q5: What is the ratio of free and paid application?"
      ]
    },
    {
      "cell_type": "code",
      "source": [
        "colors = sns.color_palette('pastel')[0:5]\n",
        "d = df['Free'].value_counts()\n",
        "\n",
        "# create pie chart\n",
        "plt.pie(d, labels = d.index, colors = colors, autopct='%.0f%%')\n",
        "plt.legend(d.index, loc ='lower left')\n",
        "plt.show()"
      ],
      "metadata": {
        "id": "tdOY_cLhBC8o",
        "colab": {
          "base_uri": "https://localhost:8080/",
          "height": 303
        },
        "outputId": "91e9f0e1-110c-49e7-bd9f-22e4cee89885"
      },
      "execution_count": 22,
      "outputs": [
        {
          "output_type": "display_data",
          "data": {
            "text/plain": [
              "<Figure size 648x360 with 1 Axes>"
            ],
            "image/png": "[encoded data removed]"
          },
          "metadata": {}
        }
      ]
    },
    {
      "cell_type": "markdown",
      "metadata": {
        "id": "VxoO755tVJJ_"
      },
      "source": [
        "## Inferences and Conclusion\n",
        "\n",
        "**TODO** - Write some explanation here: a summary of all the inferences drawn from the analysis, and any conclusions you may have drawn by answering various questions."
      ]
    },
    {
      "cell_type": "code",
      "execution_count": 22,
      "metadata": {
        "id": "kZ1_OOfbVJKA"
      },
      "outputs": [],
      "source": []
    },
    {
      "cell_type": "code",
      "execution_count": 22,
      "metadata": {
        "id": "MtFJFEuMVJKA"
      },
      "outputs": [],
      "source": []
    },
    {
      "cell_type": "markdown",
      "metadata": {
        "id": "xfuc6sJgVJKA"
      },
      "source": [
        "## References and Future Work\n",
        "\n",
        "**TODO** - Write some explanation here: ideas for future projects using this dataset, and links to resources you found useful."
      ]
    },
    {
      "cell_type": "markdown",
      "metadata": {
        "id": "s9w8LQGaVJKA"
      },
      "source": [
        "> Submission Instructions (delete this cell)\n",
        "> \n",
        "> - Upload your notebook to E-learning\n",
        "\n",
        "\n",
        " "
      ]
    },
    {
      "cell_type": "code",
      "execution_count": 22,
      "metadata": {
        "id": "OuvFcAJoVJKA"
      },
      "outputs": [],
      "source": []
    },
    {
      "cell_type": "code",
      "execution_count": 22,
      "metadata": {
        "scrolled": true,
        "id": "VWI2hEA1VJKA"
      },
      "outputs": [],
      "source": []
    },
    {
      "cell_type": "code",
      "execution_count": 22,
      "metadata": {
        "id": "VT58I-b9VJKB"
      },
      "outputs": [],
      "source": []
    }
  ],
  "metadata": {
    "kernelspec": {
      "display_name": "Python 3",
      "language": "python",
      "name": "python3"
    },
    "language_info": {
      "codemirror_mode": {
        "name": "ipython",
        "version": 3
      },
      "file_extension": ".py",
      "mimetype": "text/x-python",
      "name": "python",
      "nbconvert_exporter": "python",
      "pygments_lexer": "ipython3",
      "version": "3.8.5"
    },
    "colab": {
      "provenance": []
    }
  },
  "nbformat": 4,
  "nbformat_minor": 0
}